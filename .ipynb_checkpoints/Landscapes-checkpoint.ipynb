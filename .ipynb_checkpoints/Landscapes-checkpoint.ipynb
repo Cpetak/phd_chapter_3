{
 "cells": [
  {
   "cell_type": "code",
   "execution_count": 1,
   "id": "77a5076f",
   "metadata": {},
   "outputs": [],
   "source": [
    "import pickle\n",
    "\n",
    "# open a file, where you stored the pickled data\n",
    "file = open('landscape_results/QKO76Y63I9.pkl', 'rb')\n",
    "\n",
    "# dump information to that file\n",
    "data = pickle.load(file)"
   ]
  },
  {
   "cell_type": "code",
   "execution_count": 2,
   "id": "87f74a6f",
   "metadata": {},
   "outputs": [
    {
     "data": {
      "text/plain": [
       "dict_keys(['best_div', 'best_con', 'bestA', 'bestB', 'best_div_score', 'best_con_score', 'bestA_score', 'bestB_score', 'best_div_gen', 'best_con_gen', 'args_used'])"
      ]
     },
     "execution_count": 2,
     "metadata": {},
     "output_type": "execute_result"
    }
   ],
   "source": [
    "data.keys()"
   ]
  },
  {
   "cell_type": "code",
   "execution_count": 19,
   "id": "dacdae92",
   "metadata": {},
   "outputs": [
    {
     "data": {
      "text/plain": [
       "10"
      ]
     },
     "execution_count": 19,
     "metadata": {},
     "output_type": "execute_result"
    }
   ],
   "source": [
    "data[\"best_con_gen\"]"
   ]
  },
  {
   "cell_type": "code",
   "execution_count": null,
   "id": "17769400",
   "metadata": {},
   "outputs": [],
   "source": []
  },
  {
   "cell_type": "code",
   "execution_count": 2,
   "id": "d40af97d",
   "metadata": {},
   "outputs": [],
   "source": [
    "import torch\n",
    "import matplotlib.pyplot as plt\n",
    "import pandas as pd\n",
    "import numpy as np"
   ]
  },
  {
   "cell_type": "code",
   "execution_count": 3,
   "id": "a4021a02",
   "metadata": {},
   "outputs": [],
   "source": [
    "device = \"cuda\" if torch.cuda.is_available() else \"cpu\""
   ]
  },
  {
   "cell_type": "code",
   "execution_count": 4,
   "id": "716e4ded",
   "metadata": {},
   "outputs": [],
   "source": [
    "grn_size=50\n",
    "ones=torch.ones(1,int(grn_size/2)).to(device)\n",
    "zeros=torch.zeros(1,int(grn_size/2)).to(device)\n",
    "targA=torch.cat((ones,zeros),1)\n",
    "targB=torch.cat((zeros,ones),1)"
   ]
  },
  {
   "cell_type": "code",
   "execution_count": 5,
   "id": "8850191e",
   "metadata": {},
   "outputs": [],
   "source": [
    "def get_phenotypes(pop, num_indv):\n",
    "    state = torch.zeros(num_indv, 1, grn_size).to(device)\n",
    "    state[:, :, 0] = 1.0 # create input to the GRNs\n",
    "\n",
    "    for i in range(max_iter):\n",
    "        state = torch.matmul(state, pop) # each matrix in the population is multiplied\n",
    "        state = state * alpha\n",
    "        state = torch.sigmoid(state) # after which it is put in a sigmoid function to get the output, by default alpha = 1 which is pretty flat, so let's use alpha > 1 (wagner uses infinite) hence the above multiplication\n",
    "  \n",
    "    return state"
   ]
  },
  {
   "cell_type": "markdown",
   "id": "27388357",
   "metadata": {},
   "source": [
    "# Old way of defining diversifier, conservative"
   ]
  },
  {
   "cell_type": "code",
   "execution_count": 6,
   "id": "d3af0126",
   "metadata": {},
   "outputs": [],
   "source": [
    "# Conservative: close to being 0.5 fitness in both environments\n",
    "def cons_spec(pop):\n",
    "    phenos=get_phenotypes(pop,len(pop))\n",
    "    a=(1- torch.abs(targA - phenos.squeeze(1))).sum(axis=1)/50\n",
    "    b=(1- torch.abs(targB - phenos.squeeze(1))).sum(axis=1)/50\n",
    "    con = 1-(abs(a-0.5)+abs(b-0.5)/2) #min 0.25, max 1\n",
    "    return phenos, con, a, b"
   ]
  },
  {
   "cell_type": "code",
   "execution_count": 7,
   "id": "f33a6f08",
   "metadata": {},
   "outputs": [],
   "source": [
    "#standard deviation between children phenotypes\n",
    "def diver(pop, if_pheno=False):\n",
    "     \n",
    "    num_clones=20\n",
    "    clones = pop.repeat([num_clones, 1, 1])\n",
    "\n",
    "    # Mutate clones\n",
    "    num_genes_mutate = int(grn_size*grn_size*len(clones) * mut_rate)\n",
    "    mylist = torch.zeros(grn_size*grn_size*len(clones), device=device)\n",
    "    mylist[:num_genes_mutate] = 1\n",
    "    shuffled_idx = torch.randperm(grn_size*grn_size*len(clones), device=device)\n",
    "    mask = mylist[shuffled_idx].reshape(len(clones),grn_size,grn_size) #select genes to mutate\n",
    "    clones = clones + (clones*mask)*torch.randn(size=clones.shape, device=device) * mut_size  # mutate only clones only at certain genes\n",
    "\n",
    "    # Get clone phenotypes\n",
    "    clone_phenos=get_phenotypes(clones, len(clones))\n",
    "    \n",
    "    #If just getting phenos\n",
    "    if if_pheno:\n",
    "        return torch.squeeze(clone_phenos)\n",
    "    \n",
    "    else:\n",
    "        reshaped=torch.reshape(clone_phenos, (num_clones, len(pop), grn_size))\n",
    "\n",
    "        stds=torch.std(reshaped,dim=(0)) #mean across the 50 genes\n",
    "        stds=stds.mean(1)#.mean().item()\n",
    "    \n",
    "        return stds\n"
   ]
  },
  {
   "cell_type": "code",
   "execution_count": 8,
   "id": "03c5410a",
   "metadata": {},
   "outputs": [],
   "source": [
    "pop_size=1000\n",
    "max_iter=100 #could play with this\n",
    "alpha=10\n",
    "mut_rate=0.1\n",
    "mut_size=0.5"
   ]
  },
  {
   "cell_type": "code",
   "execution_count": 9,
   "id": "c21fd5d8",
   "metadata": {},
   "outputs": [],
   "source": [
    "myset = torch.randn((pop_size, grn_size, grn_size)).to(device)"
   ]
  },
  {
   "cell_type": "code",
   "execution_count": 10,
   "id": "5a2b9003",
   "metadata": {},
   "outputs": [],
   "source": [
    "phenos, con, a, b = cons_spec(myset)"
   ]
  },
  {
   "cell_type": "code",
   "execution_count": 11,
   "id": "b860f389",
   "metadata": {},
   "outputs": [],
   "source": [
    "div=diver(myset)"
   ]
  },
  {
   "cell_type": "code",
   "execution_count": 12,
   "id": "98808dc2",
   "metadata": {},
   "outputs": [
    {
     "data": {
      "text/plain": [
       "<matplotlib.legend.Legend at 0x2b5f45feb040>"
      ]
     },
     "execution_count": 12,
     "metadata": {},
     "output_type": "execute_result"
    },
    {
     "data": {
      "image/png": "[encoded data removed]",
      "text/plain": [
       "<Figure size 432x288 with 1 Axes>"
      ]
     },
     "metadata": {
      "needs_background": "light"
     },
     "output_type": "display_data"
    }
   ],
   "source": [
    "plt.hist(con.cpu(), label=\"con\")\n",
    "plt.hist(a.cpu(), label=\"a\")\n",
    "plt.hist(b.cpu(), label=\"b\")\n",
    "plt.hist(div.cpu(), label=\"div\")\n",
    "plt.legend()\n",
    "#fig = plt.figure(figsize=(2,2))\n",
    "#plt.matshow(torch.squeeze(phenos).cpu())"
   ]
  },
  {
   "cell_type": "markdown",
   "id": "02f9c35d",
   "metadata": {},
   "source": [
    "### As you can see, random networks generate phenotypes that are in-between, hence all (or most) of them are \"conservative bet-hedgers\". Also, std reaches 0.4! so are these \"diversifying bet-hedgers\"?\n"
   ]
  },
  {
   "cell_type": "code",
   "execution_count": 13,
   "id": "8e5dbfca",
   "metadata": {},
   "outputs": [
    {
     "data": {
      "text/plain": [
       "torch.Size([50, 50])"
      ]
     },
     "execution_count": 13,
     "metadata": {},
     "output_type": "execute_result"
    }
   ],
   "source": [
    "#find most diversifier\n",
    "most_diver=myset[np.argsort(div.cpu().detach().numpy())[-1]]\n",
    "most_diver.shape"
   ]
  },
  {
   "cell_type": "code",
   "execution_count": 14,
   "id": "6d7d72cc",
   "metadata": {},
   "outputs": [
    {
     "data": {
      "text/plain": [
       "torch.Size([20, 50])"
      ]
     },
     "execution_count": 14,
     "metadata": {},
     "output_type": "execute_result"
    }
   ],
   "source": [
    "t_phenos=diver(most_diver, if_pheno=True)\n",
    "t_phenos.shape"
   ]
  },
  {
   "cell_type": "code",
   "execution_count": 15,
   "id": "3979a74e",
   "metadata": {},
   "outputs": [
    {
     "data": {
      "text/plain": [
       "<matplotlib.image.AxesImage at 0x2b5f4fbb78e0>"
      ]
     },
     "execution_count": 15,
     "metadata": {},
     "output_type": "execute_result"
    },
    {
     "data": {
      "text/plain": [
       "<Figure size 144x144 with 0 Axes>"
      ]
     },
     "metadata": {},
     "output_type": "display_data"
    },
    {
     "data": {
      "image/png": "[encoded data removed]",
      "text/plain": [
       "<Figure size 720x288 with 1 Axes>"
      ]
     },
     "metadata": {
      "needs_background": "light"
     },
     "output_type": "display_data"
    }
   ],
   "source": [
    "fig = plt.figure(figsize=(2,2))\n",
    "plt.matshow(t_phenos.cpu()[t_phenos.cpu()[:, 0].sort()[1]])"
   ]
  },
  {
   "cell_type": "markdown",
   "id": "575c1245",
   "metadata": {},
   "source": [
    "### As you can see, you can be a \"diversifying bet-hedger\" even if the alternatives are really far from a good solution. like you can have a random number of genes on, as long as other kids have those genes off and the rest on, we are classifying it as a diversifyer. So clearly, at least this definition is wrong for our purposes"
   ]
  },
  {
   "cell_type": "markdown",
   "id": "74513564",
   "metadata": {},
   "source": [
    "### New definition of conservative: number of genes close to the value 0.5"
   ]
  },
  {
   "cell_type": "markdown",
   "id": "83a353bd",
   "metadata": {},
   "source": [
    "### New definition of diversifier: std in fitnesses!?"
   ]
  },
  {
   "cell_type": "code",
   "execution_count": 19,
   "id": "3f0a202b",
   "metadata": {},
   "outputs": [],
   "source": [
    "# Conservative: average distance of gene expression from 0.5\n",
    "def cons_spec(pop):\n",
    "    phenos=get_phenotypes(pop,len(pop))\n",
    "    a=(1- torch.abs(targA - phenos.squeeze(1))).sum(axis=1)/50\n",
    "    b=(1- torch.abs(targB - phenos.squeeze(1))).sum(axis=1)/50\n",
    "    \n",
    "    phenos=torch.squeeze(phenos)\n",
    "    con=1-(abs(phenos-0.5).mean(1)) #value between 0.5 and 1, higher more conservative\n",
    "    con=(con-0.5) *2 #rescaled to value between 0 and 1\n",
    "\n",
    "    return phenos, con, a, b"
   ]
  },
  {
   "cell_type": "code",
   "execution_count": 20,
   "id": "3a7bf248",
   "metadata": {},
   "outputs": [],
   "source": [
    "#standard deviation between children fitnesses\n",
    "def diver(pop, if_pheno=False):\n",
    "     \n",
    "    num_clones=20\n",
    "    clones = pop.repeat([num_clones, 1, 1])\n",
    "\n",
    "    # Mutate clones\n",
    "    num_genes_mutate = int(grn_size*grn_size*len(clones) * mut_rate)\n",
    "    mylist = torch.zeros(grn_size*grn_size*len(clones), device=device)\n",
    "    mylist[:num_genes_mutate] = 1\n",
    "    shuffled_idx = torch.randperm(grn_size*grn_size*len(clones), device=device)\n",
    "    mask = mylist[shuffled_idx].reshape(len(clones),grn_size,grn_size) #select genes to mutate\n",
    "    clones = clones + (clones*mask)*torch.randn(size=clones.shape, device=device) * mut_size  # mutate only clones only at certain genes\n",
    "\n",
    "    # Get clone phenotypes\n",
    "    clone_phenos=get_phenotypes(clones, len(clones))\n",
    "    clone_phenos=torch.squeeze(clone_phenos)\n",
    "    \n",
    "    #If just getting phenos\n",
    "    if if_pheno:\n",
    "        return clone_phenos\n",
    "    \n",
    "    else:\n",
    "        reshaped=torch.reshape(clone_phenos, (num_clones, len(pop), grn_size))\n",
    "        kid_fits=abs(reshaped-targA).sum(axis=2).T /grn_size #each row is 20 kids of the same parent (their fitness)\n",
    "        fit_stds=torch.std(kid_fits,dim=(1))\n",
    "\n",
    "        return fit_stds\n"
   ]
  },
  {
   "cell_type": "code",
   "execution_count": 21,
   "id": "25d07eab",
   "metadata": {},
   "outputs": [],
   "source": [
    "div=diver(myset, if_pheno=False)"
   ]
  },
  {
   "cell_type": "code",
   "execution_count": 22,
   "id": "a0aa2755",
   "metadata": {},
   "outputs": [],
   "source": [
    "phenos, con, a, b = cons_spec(myset)"
   ]
  },
  {
   "cell_type": "code",
   "execution_count": 24,
   "id": "65777ad9",
   "metadata": {},
   "outputs": [
    {
     "data": {
      "text/plain": [
       "<matplotlib.legend.Legend at 0x2b5f4029b040>"
      ]
     },
     "execution_count": 24,
     "metadata": {},
     "output_type": "execute_result"
    },
    {
     "data": {
      "image/png": "[encoded data removed]",
      "text/plain": [
       "<Figure size 432x288 with 1 Axes>"
      ]
     },
     "metadata": {
      "needs_background": "light"
     },
     "output_type": "display_data"
    }
   ],
   "source": [
    "plt.hist(con.cpu(), label=\"conservative\")\n",
    "plt.hist(a.cpu(), label=\"a\")\n",
    "plt.hist(b.cpu(), label=\"b\")\n",
    "plt.hist(div.cpu(), label=\"diversifying\")\n",
    "plt.legend()\n",
    "#fig = plt.figure(figsize=(2,2))\n",
    "#plt.matshow(torch.squeeze(phenos).cpu())"
   ]
  },
  {
   "cell_type": "markdown",
   "id": "fc13ecaa",
   "metadata": {},
   "source": [
    "## Next: put in evolved networks to compare"
   ]
  },
  {
   "cell_type": "code",
   "execution_count": 32,
   "id": "ea5c3f21",
   "metadata": {},
   "outputs": [],
   "source": [
    "general = np.load(\"supp_data/general.npy\")\n",
    "switcher = np.load(\"supp_data/switcher.npy\")\n",
    "general=torch.Tensor(general).to(device)\n",
    "general=general[None, :, :]\n",
    "switcher=torch.Tensor(switcher).to(device)\n",
    "switcher=switcher[None,:,:]"
   ]
  },
  {
   "cell_type": "code",
   "execution_count": 33,
   "id": "cc19af93",
   "metadata": {},
   "outputs": [],
   "source": [
    "myset=torch.cat((myset,general),dim=0)\n",
    "myset=torch.cat((myset,switcher),dim=0)"
   ]
  },
  {
   "cell_type": "code",
   "execution_count": 34,
   "id": "4f7d3504",
   "metadata": {},
   "outputs": [
    {
     "data": {
      "text/plain": [
       "torch.Size([1002, 50, 50])"
      ]
     },
     "execution_count": 34,
     "metadata": {},
     "output_type": "execute_result"
    }
   ],
   "source": [
    "myset.shape"
   ]
  },
  {
   "cell_type": "code",
   "execution_count": 35,
   "id": "ac68987d",
   "metadata": {},
   "outputs": [],
   "source": [
    "div=diver(myset, if_pheno=False)\n",
    "phenos, con, a, b = cons_spec(myset)"
   ]
  },
  {
   "cell_type": "code",
   "execution_count": 36,
   "id": "ae86ef1d",
   "metadata": {},
   "outputs": [
    {
     "data": {
      "text/plain": [
       "tensor([0.0311, 0.0452, 0.0341, 0.0083, 0.3998], device='cuda:0')"
      ]
     },
     "execution_count": 36,
     "metadata": {},
     "output_type": "execute_result"
    }
   ],
   "source": [
    "div[-5:]"
   ]
  },
  {
   "cell_type": "code",
   "execution_count": 37,
   "id": "71eae4c4",
   "metadata": {},
   "outputs": [
    {
     "data": {
      "text/plain": [
       "tensor([5.0128e-04, 4.6320e-02, 2.9720e-02, 5.4261e-01, 3.1793e-02],\n",
       "       device='cuda:0')"
      ]
     },
     "execution_count": 37,
     "metadata": {},
     "output_type": "execute_result"
    }
   ],
   "source": [
    "con[-5:]"
   ]
  },
  {
   "cell_type": "markdown",
   "id": "b9ede332",
   "metadata": {},
   "source": [
    "### ok, seems like these definitions are much better"
   ]
  },
  {
   "cell_type": "markdown",
   "id": "354b1fb8",
   "metadata": {},
   "source": [
    "# PCA"
   ]
  },
  {
   "cell_type": "code",
   "execution_count": 38,
   "id": "6714a01b",
   "metadata": {},
   "outputs": [
    {
     "data": {
      "text/plain": [
       "torch.Size([1002, 2500])"
      ]
     },
     "execution_count": 38,
     "metadata": {},
     "output_type": "execute_result"
    }
   ],
   "source": [
    "flat=myset.flatten(1)\n",
    "flat.shape"
   ]
  },
  {
   "cell_type": "code",
   "execution_count": 39,
   "id": "b101c095",
   "metadata": {},
   "outputs": [],
   "source": [
    "from sklearn.decomposition import PCA\n",
    "pca = PCA(n_components=2)\n",
    "principalComponentst = pca.fit_transform(flat.cpu())"
   ]
  },
  {
   "cell_type": "code",
   "execution_count": 40,
   "id": "a5fba1e1",
   "metadata": {},
   "outputs": [
    {
     "data": {
      "text/plain": [
       "2"
      ]
     },
     "execution_count": 40,
     "metadata": {},
     "output_type": "execute_result"
    }
   ],
   "source": [
    "len(principalComponentst[0])"
   ]
  },
  {
   "cell_type": "code",
   "execution_count": 41,
   "id": "09f1a371",
   "metadata": {},
   "outputs": [
    {
     "name": "stdout",
     "output_type": "stream",
     "text": [
      "Explained variation per principal component: [9.99998205e-01 7.68062626e-07]\n"
     ]
    }
   ],
   "source": [
    "print('Explained variation per principal component: {}'.format(pca.explained_variance_ratio_))\n"
   ]
  },
  {
   "cell_type": "code",
   "execution_count": 42,
   "id": "ba278bd9",
   "metadata": {},
   "outputs": [],
   "source": [
    "Df = pd.DataFrame(data = principalComponentst, columns = ['principal component 1', 'principal component 2'])"
   ]
  },
  {
   "cell_type": "code",
   "execution_count": 43,
   "id": "54ea1b8e",
   "metadata": {},
   "outputs": [
    {
     "data": {
      "text/html": [
       "<div>\n",
       "<style scoped>\n",
       "    .dataframe tbody tr th:only-of-type {\n",
       "        vertical-align: middle;\n",
       "    }\n",
       "\n",
       "    .dataframe tbody tr th {\n",
       "        vertical-align: top;\n",
       "    }\n",
       "\n",
       "    .dataframe thead th {\n",
       "        text-align: right;\n",
       "    }\n",
       "</style>\n",
       "<table border=\"1\" class=\"dataframe\">\n",
       "  <thead>\n",
       "    <tr style=\"text-align: right;\">\n",
       "      <th></th>\n",
       "      <th>principal component 1</th>\n",
       "      <th>principal component 2</th>\n",
       "    </tr>\n",
       "  </thead>\n",
       "  <tbody>\n",
       "    <tr>\n",
       "      <th>0</th>\n",
       "      <td>-1.556653e+03</td>\n",
       "      <td>-0.144440</td>\n",
       "    </tr>\n",
       "    <tr>\n",
       "      <th>1</th>\n",
       "      <td>-1.556206e+03</td>\n",
       "      <td>-0.540337</td>\n",
       "    </tr>\n",
       "    <tr>\n",
       "      <th>2</th>\n",
       "      <td>-1.555810e+03</td>\n",
       "      <td>-1.962704</td>\n",
       "    </tr>\n",
       "    <tr>\n",
       "      <th>3</th>\n",
       "      <td>-1.556499e+03</td>\n",
       "      <td>-2.944806</td>\n",
       "    </tr>\n",
       "    <tr>\n",
       "      <th>4</th>\n",
       "      <td>-1.555540e+03</td>\n",
       "      <td>-0.279903</td>\n",
       "    </tr>\n",
       "    <tr>\n",
       "      <th>...</th>\n",
       "      <td>...</td>\n",
       "      <td>...</td>\n",
       "    </tr>\n",
       "    <tr>\n",
       "      <th>997</th>\n",
       "      <td>-1.556702e+03</td>\n",
       "      <td>-0.940532</td>\n",
       "    </tr>\n",
       "    <tr>\n",
       "      <th>998</th>\n",
       "      <td>-1.555640e+03</td>\n",
       "      <td>-0.429821</td>\n",
       "    </tr>\n",
       "    <tr>\n",
       "      <th>999</th>\n",
       "      <td>-1.556298e+03</td>\n",
       "      <td>-2.867985</td>\n",
       "    </tr>\n",
       "    <tr>\n",
       "      <th>1000</th>\n",
       "      <td>1.557350e+06</td>\n",
       "      <td>0.002804</td>\n",
       "    </tr>\n",
       "    <tr>\n",
       "      <th>1001</th>\n",
       "      <td>-1.558991e+03</td>\n",
       "      <td>1364.454995</td>\n",
       "    </tr>\n",
       "  </tbody>\n",
       "</table>\n",
       "<p>1002 rows × 2 columns</p>\n",
       "</div>"
      ],
      "text/plain": [
       "      principal component 1  principal component 2\n",
       "0             -1.556653e+03              -0.144440\n",
       "1             -1.556206e+03              -0.540337\n",
       "2             -1.555810e+03              -1.962704\n",
       "3             -1.556499e+03              -2.944806\n",
       "4             -1.555540e+03              -0.279903\n",
       "...                     ...                    ...\n",
       "997           -1.556702e+03              -0.940532\n",
       "998           -1.555640e+03              -0.429821\n",
       "999           -1.556298e+03              -2.867985\n",
       "1000           1.557350e+06               0.002804\n",
       "1001          -1.558991e+03            1364.454995\n",
       "\n",
       "[1002 rows x 2 columns]"
      ]
     },
     "execution_count": 43,
     "metadata": {},
     "output_type": "execute_result"
    }
   ],
   "source": [
    "Df"
   ]
  },
  {
   "cell_type": "code",
   "execution_count": 44,
   "id": "0e692d01",
   "metadata": {},
   "outputs": [
    {
     "data": {
      "text/plain": [
       "<matplotlib.colorbar.Colorbar at 0x2b60607b8b50>"
      ]
     },
     "execution_count": 44,
     "metadata": {},
     "output_type": "execute_result"
    },
    {
     "data": {
      "text/plain": [
       "<Figure size 432x288 with 0 Axes>"
      ]
     },
     "metadata": {},
     "output_type": "display_data"
    },
    {
     "data": {
      "image/png": "[encoded data removed]",
      "text/plain": [
       "<Figure size 1152x720 with 2 Axes>"
      ]
     },
     "metadata": {
      "needs_background": "light"
     },
     "output_type": "display_data"
    }
   ],
   "source": [
    "plt.figure()\n",
    "plt.figure(figsize=(16,10))\n",
    "plt.xlabel('Principal Component - 1',fontsize=20)\n",
    "plt.ylabel('Principal Component - 2',fontsize=20)\n",
    "\n",
    "plt.scatter(Df['principal component 1'], Df['principal component 2'], c = div.cpu(), s = 50)\n",
    "\n",
    "plt.colorbar()"
   ]
  },
  {
   "cell_type": "code",
   "execution_count": null,
   "id": "502d8f04",
   "metadata": {},
   "outputs": [],
   "source": []
  }
 ],
 "metadata": {
  "kernelspec": {
   "display_name": "grnenv",
   "language": "python",
   "name": "grnenv"
  },
  "language_info": {
   "codemirror_mode": {
    "name": "ipython",
    "version": 3
   },
   "file_extension": ".py",
   "mimetype": "text/x-python",
   "name": "python",
   "nbconvert_exporter": "python",
   "pygments_lexer": "ipython3",
   "version": "3.9.16"
  }
 },
 "nbformat": 4,
 "nbformat_minor": 5
}
