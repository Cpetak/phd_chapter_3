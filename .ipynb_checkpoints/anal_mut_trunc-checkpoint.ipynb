{
 "cells": [
  {
   "cell_type": "code",
   "execution_count": 2,
   "id": "d435710b",
   "metadata": {},
   "outputs": [],
   "source": [
    "import pandas as pd\n",
    "import scipy.stats as stats\n",
    "from matplotlib import pyplot as plt\n",
    "import seaborn as sns\n",
    "import numpy as np"
   ]
  },
  {
   "cell_type": "code",
   "execution_count": 27,
   "id": "a8b7fc30",
   "metadata": {},
   "outputs": [],
   "source": [
    "df=pd.read_csv(\"500_tunc.csv\")\n",
    "ndf=pd.read_csv(\"500_tunc_names.csv\")"
   ]
  },
  {
   "cell_type": "code",
   "execution_count": 28,
   "id": "9aa04505",
   "metadata": {},
   "outputs": [],
   "source": [
    "df = df[df.columns.drop(list(df.filter(regex='MAX')))]\n",
    "df = df[df.columns.drop(list(df.filter(regex='MIN')))]"
   ]
  },
  {
   "cell_type": "code",
   "execution_count": 30,
   "id": "062b8737",
   "metadata": {},
   "outputs": [],
   "source": [
    "low=ndf[ndf[\"truncation_prop\"]==0.05].Name.tolist()\n",
    "med=ndf[ndf[\"truncation_prop\"]==0.1].Name.tolist()\n",
    "high=ndf[ndf[\"truncation_prop\"]==0.2].Name.tolist()"
   ]
  },
  {
   "cell_type": "code",
   "execution_count": 31,
   "id": "98c09115",
   "metadata": {},
   "outputs": [
    {
     "name": "stdout",
     "output_type": "stream",
     "text": [
      "[0.028871548959941457, 0.04954181109957444, 0.04068150494063641, 0.043005682327962765, 0.028290064968237015, 0.03417528896834601, 0.05386936661842778, 0.04287885727237033, 0.02336969836883212, 0.027348855913436054] [0.020993946434034787, 0.020808072824603424, 0.03191634708890269, 0.017847357437985007, 0.018537304146279878, 0.016172775597323302, 0.016679058239025667, 0.01703790316484756, 0.02010452974021648, 0.022060657150732677] [0.012373787526202705, 0.010796651147001032, 0.014029721185348242, 0.013513243455228809, 0.013479991505468674, 0.010435154142054684, 0.011865483982218188, 0.010220685408166248, 0.011702650084342424, 0.010999338892482918]\n"
     ]
    }
   ],
   "source": [
    "a=[]\n",
    "b=[]\n",
    "c=[]\n",
    "for i in low:\n",
    "    my_col = [col for col in df.columns if i in col]\n",
    "    my_list=df[my_col].values\n",
    "    flat_list = [item for sublist in my_list for item in sublist]\n",
    "    my_list2=[x for x in flat_list if str(x) != 'nan']\n",
    "    a.append(sum(my_list2)/len(my_list2))\n",
    "for i in med:\n",
    "    my_col = [col for col in df.columns if i in col]\n",
    "    my_list=df[my_col].values\n",
    "    flat_list = [item for sublist in my_list for item in sublist]\n",
    "    my_list2=[x for x in flat_list if str(x) != 'nan']\n",
    "    b.append(sum(my_list2)/len(my_list2))\n",
    "for i in high:\n",
    "    my_col = [col for col in df.columns if i in col]\n",
    "    my_list=df[my_col].values\n",
    "    flat_list = [item for sublist in my_list for item in sublist]\n",
    "    my_list2=[x for x in flat_list if str(x) != 'nan']\n",
    "    c.append(sum(my_list2)/len(my_list2))\n",
    "print(a,b,c)"
   ]
  },
  {
   "cell_type": "code",
   "execution_count": 32,
   "id": "de0aba44",
   "metadata": {},
   "outputs": [
    {
     "name": "stdout",
     "output_type": "stream",
     "text": [
      "38.60568975489089 1.2065806583404848e-08\n"
     ]
    }
   ],
   "source": [
    "fvalue, pvalue = stats.f_oneway(a, b, c)\n",
    "print(fvalue, pvalue)"
   ]
  },
  {
   "cell_type": "code",
   "execution_count": 33,
   "id": "6caa8a44",
   "metadata": {},
   "outputs": [
    {
     "data": {
      "text/plain": [
       "<BarContainer object of 3 artists>"
      ]
     },
     "execution_count": 33,
     "metadata": {},
     "output_type": "execute_result"
    },
    {
     "data": {
      "image/png": "[encoded data removed]",
      "text/plain": [
       "<Figure size 640x480 with 1 Axes>"
      ]
     },
     "metadata": {},
     "output_type": "display_data"
    }
   ],
   "source": [
    "plt.bar([\"low\",\"med\",\"high\"],[np.mean(a),np.mean(b),np.mean(c)])"
   ]
  },
  {
   "cell_type": "code",
   "execution_count": null,
   "id": "32434022",
   "metadata": {},
   "outputs": [],
   "source": []
  }
 ],
 "metadata": {
  "kernelspec": {
   "display_name": "Python 3 (ipykernel)",
   "language": "python",
   "name": "python3"
  },
  "language_info": {
   "codemirror_mode": {
    "name": "ipython",
    "version": 3
   },
   "file_extension": ".py",
   "mimetype": "text/x-python",
   "name": "python",
   "nbconvert_exporter": "python",
   "pygments_lexer": "ipython3",
   "version": "3.9.16"
  }
 },
 "nbformat": 4,
 "nbformat_minor": 5
}
