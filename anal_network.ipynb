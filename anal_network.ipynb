{
  "cells": [
    {
      "cell_type": "code",
      "execution_count": null,
      "metadata": {
        "id": "44HazpDryJpL"
      },
      "outputs": [],
      "source": [
        "pip install wandb"
      ]
    },
    {
      "cell_type": "code",
      "execution_count": null,
      "metadata": {
        "id": "vnQVF9G5u2c2"
      },
      "outputs": [],
      "source": [
        "import torch\n",
        "from tqdm import trange, tqdm\n",
        "import argparse\n",
        "import numpy as np\n",
        "import matplotlib.pyplot as plt\n",
        "from collections import defaultdict\n",
        "from itertools import combinations\n",
        "\n",
        "import pickle\n",
        "from copy import deepcopy\n",
        "import wandb\n",
        "from datetime import date\n",
        "from pathlib import Path\n",
        "\n",
        "device=\"cuda\""
      ]
    },
    {
      "cell_type": "code",
      "execution_count": null,
      "metadata": {
        "id": "fPdzKqR1vdkQ"
      },
      "outputs": [],
      "source": [
        "#Helper functions\n",
        "\n",
        "def to_im(ten):\n",
        "    return ten.cpu().detach().clone().squeeze(1).numpy()\n",
        "\n",
        "\n",
        "def dround(ten, digits):\n",
        "    a = 10 ^ digits\n",
        "    return torch.round(ten * a) / a\n",
        "\n",
        "\n",
        "def fitness_function(pop, targ):\n",
        "    return (1 - torch.abs(pop.squeeze(1) - targ)).sum(axis=1) # the smaller the difference, the higher the fitness\n",
        "\n",
        "\n",
        "def prepare_run(entity, project, args, folder_name=\"results\"):\n",
        "    import wandb\n",
        "\n",
        "    #folder = get_folder()\n",
        "    #args[\"location = get_location()\n",
        "\n",
        "    run = wandb.init(config=args, entity=entity, project=project)\n",
        "\n",
        "    today = date.today().strftime(\"%d-%m-%Y\")\n",
        "    folder = Path(folder_name) / run.name\n",
        "    folder.mkdir(parents=True, exist_ok=True)\n",
        "\n",
        "    return run, folder\n",
        "\n",
        "def calc_strategy(phenotypes, selection_size, envs, args, curr_targ):\n",
        "    #sample = np.random.choice(phenotypes, selection_size, replace=False)\n",
        "    perm = torch.randperm(phenotypes.size(0))\n",
        "    idx = perm[:selection_size]\n",
        "    sample = phenotypes[idx]\n",
        "\n",
        "    spec_A = 0\n",
        "    spec_B = 0\n",
        "    gen = 0\n",
        "    low = 0\n",
        "    #high = 0\n",
        "\n",
        "    first_fitness = fitness_function(sample, envs[0]) #env A\n",
        "    #curr_targ = (curr_targ + 1) % 2\n",
        "    second_fitness = fitness_function(sample, envs[1]) #env B\n",
        "\n",
        "    first_fitness = first_fitness / (int(args[\"num_genes_consider\"]*args[\"grn_size\"]))\n",
        "    second_fitness = second_fitness / (int(args[\"num_genes_consider\"]*args[\"grn_size\"]))\n",
        "\n",
        "    for i in range(len(first_fitness)):\n",
        "      if (first_fitness[i] < 0.3 and second_fitness[i] < 0.3) or (0.3 <= first_fitness[i] <= 0.7 and second_fitness[i] < 0.3) or (first_fitness[i] < 0.3 and 0.3 <=second_fitness[i] <= 0.7):\n",
        "        low += 1\n",
        "      #if (first_fitness[i] > 0.7 and second_fitness[i] > 0.7) or (0.3 <= first_fitness[i] <= 0.7 and second_fitness[i] > 0.7) or (first_fitness[i] > 0.7 and 0.3 <=second_fitness[i] <= 0.7):\n",
        "        #high += 1\n",
        "      if (first_fitness[i] < 0.3 and second_fitness[i] > 0.7): \n",
        "        spec_B += 1\n",
        "      if (first_fitness[i] > 0.7 and second_fitness[i] < 0.3):\n",
        "        spec_A += 1\n",
        "      if 0.3 <= first_fitness[i] <= 0.7 and 0.3 <= second_fitness[i] <= 0.7:\n",
        "        gen += 1\n",
        "\n",
        "    run.log({'low': low}, commit=False)\n",
        "    #run.log({'high': high}, commit=False) #impossible\n",
        "    run.log({'spec_A': spec_A}, commit=False)\n",
        "    run.log({'spec_B': spec_B}, commit=False)\n",
        "    run.log({'gen': gen}, commit=False)\n",
        "\n",
        "    #print(first_fitness)\n",
        "    #print(second_fitness)\n",
        "\n",
        "    #print(\"low\",low)\n",
        "    #print(\"high\", high)\n",
        "    #print(\"specA\",spec_A)\n",
        "    #print(\"specB\",spec_B)\n",
        "    #print(\"gen\",gen)\n",
        "\n",
        "    #print(list(zip(first_fitnesses,second_fitnesses)))\n",
        "\n",
        "    #torch.numel(first_fitnesses[first_fitnesses>0.7])\n",
        "\n",
        "    #return(low, high,spec,gen)"
      ]
    },
    {
      "cell_type": "code",
      "execution_count": null,
      "metadata": {
        "id": "z6zbeOwyn5K-"
      },
      "outputs": [],
      "source": [
        "def get_phenotypes(args, pop, num_indv, complexities, if_comp):\n",
        "  state = torch.zeros(num_indv, 1, args[\"grn_size\"]).to(device)\n",
        "  state[:, :, 0] = 1.0 # create input to the GRNs\n",
        "\n",
        "  state_before = torch.zeros(num_indv, 1, args[\"grn_size\"]).to(device) # keeping track of the last state\n",
        "  for l in range(args[\"max_iter\"]):\n",
        "    state = torch.matmul(state, pop) # each matrix in the population is multiplied\n",
        "    state = state * args[\"alpha\"]\n",
        "    state = torch.sigmoid(state) # after which it is put in a sigmoid function to get the output, by default alpha = 1 which is pretty flat, so let's use alpha > 1 (wagner uses infinite) hence the above multiplication\n",
        "    # state = dround(state, 2)\n",
        "    diffs=torch.abs(state_before - state).sum(axis=(1,2))\n",
        "    which_repeat = torch.where(diffs == 0)\n",
        "    if if_comp:\n",
        "      complexities[which_repeat] += 1\n",
        "    state_before = state\n",
        "\n",
        "  if if_comp:\n",
        "    return state, complexities\n",
        "  else:\n",
        "    return state"
      ]
    },
    {
      "cell_type": "code",
      "execution_count": null,
      "metadata": {
        "id": "HHNQhMRovn0Z"
      },
      "outputs": [],
      "source": [
        "# Evolve\n",
        "def evolutionary_algorithm(args, title, folder):\n",
        "\n",
        "    #Setting up\n",
        "\n",
        "    pop = torch.randn((args[\"pop_size\"], args[\"grn_size\"], args[\"grn_size\"])).to(device) # create population of random GRNs\n",
        "    num_genes_fit=int(args[\"num_genes_consider\"]*args[\"grn_size\"])\n",
        "\n",
        "    ones=torch.ones(1,int(num_genes_fit/2)).to(device)\n",
        "    zeros=torch.zeros(1,int(num_genes_fit/2)).to(device)\n",
        "    targA=torch.cat((ones,zeros),1)\n",
        "    targB=torch.cat((zeros,ones),1)\n",
        "    targs = [targA,targB]\n",
        "    \n",
        "    curr_targ = 0 # ID of which target is the current one\n",
        "    previous_targ=curr_targ # will be used for measuring evolvability \n",
        "    ages = torch.zeros(args[\"pop_size\"]).to(device)\n",
        "    time_since_change = 0 # num gens since last environmental switch\n",
        "    epoc = 0\n",
        "\n",
        "    # Keeping track\n",
        "\n",
        "    max_fits = [] \n",
        "    ave_fits = [] \n",
        "    st_div_fits = []\n",
        "    ave_complex = [] \n",
        "    max_ages = [] \n",
        "    ave_ages = [] \n",
        "    diversities = [] \n",
        "\n",
        "    delta_fit_envchange_max = []\n",
        "    delta_fit_envchange = []\n",
        "    rebound_time = torch.zeros(int(args[\"num_generations\"]/args[\"season_len\"])).to(device)\n",
        "    rebound_time_max = torch.zeros(int(args[\"num_generations\"]/args[\"season_len\"])).to(device)\n",
        "\n",
        "    best_grns = []\n",
        "    #champions = []\n",
        "\n",
        "    for gen in trange(args[\"num_generations\"]):\n",
        "\n",
        "        time_since_change += 1\n",
        "\n",
        "        # Generating phenotypes\n",
        "        complexities = torch.zeros(args[\"pop_size\"]).to(device)\n",
        "        state, complexities=get_phenotypes(args, pop, args[\"pop_size\"], complexities, if_comp= True)\n",
        "        ave_complex.append(args[\"max_iter\"]-complexities.mean().item()) # 0 = never converged, the higher the number the earlier it converged so true \"complexity\" is inverse of this value\n",
        "        run.log({'average_complexity': args[\"max_iter\"]-complexities.mean().item()}, commit=False)\n",
        "\n",
        "        phenos = state[:,:,:num_genes_fit]\n",
        "\n",
        "        #diversity among siblings of the same parent, from the previous generation\n",
        "        if gen > 0:\n",
        "\n",
        "          child_phenotypes = phenos[children_locs]\n",
        "          reshaped=torch.reshape(child_phenotypes, (num_child, len(parent_locs), args[\"grn_size\"]))\n",
        "          stds=torch.std(reshaped,dim=(0))\n",
        "\n",
        "          run.log({'std_of_children': stds.mean(1).mean().item()}, commit=False)\n",
        "\n",
        "        # Evaluate fitnesses\n",
        "        # ALTERNATIVE FITNESS FUNCTION\n",
        "\n",
        "        num_clones=20\n",
        "\n",
        "        c_genotypes = []\n",
        "        c_phenotypes = []\n",
        "        \n",
        "        for c in range(num_clones): \n",
        "          \n",
        "          # Make clones\n",
        "          clones = pop.clone() # create one clone of each individual in the population\n",
        "          \n",
        "          # Mutate clones\n",
        "          num_genes_mutate = int(args[\"grn_size\"]*args[\"grn_size\"]*len(clones) * args[\"mut_rate\"])\n",
        "          mylist = torch.zeros(args[\"grn_size\"]*args[\"grn_size\"]*len(clones), device=device)\n",
        "          mylist[:num_genes_mutate] = 1\n",
        "          shuffled_idx = torch.randperm(args[\"grn_size\"]*args[\"grn_size\"]*len(clones), device=device)\n",
        "          mask = mylist[shuffled_idx].reshape(len(clones),args[\"grn_size\"],args[\"grn_size\"]) #select genes to mutate\n",
        "          clones = clones + (clones*mask)*torch.randn(size=clones.shape, device=device) * args[\"mut_size\"]  # mutate only at certain genes\n",
        "\n",
        "          # Get clone phenotypes\n",
        "          clone_states = get_phenotypes(args, clones, args[\"pop_size\"], complexities, if_comp= False)\n",
        "          clone_phenos = clone_states[:,:,:num_genes_fit]\n",
        "\n",
        "          # Save results\n",
        "          c_genotypes.append(clones)\n",
        "          c_phenotypes.append(clone_phenos)\n",
        "                \n",
        "        c_genotypes = torch.stack(c_genotypes)\n",
        "        c_phenotypes = torch.stack(c_phenotypes)\n",
        "\n",
        "        # Calculate fitness from phenotypes of clones\n",
        "        c_phenotypes=torch.squeeze(c_phenotypes)\n",
        "        tops=c_phenotypes[: , :  , :int(num_genes_fit/2)].sum(axis=-1, keepdims=True)\n",
        "        bots=c_phenotypes[: , :  , int(num_genes_fit/2):].sum(axis=-1, keepdims=True)\n",
        "        \n",
        "        across_envs=abs(tops-bots).sum(axis=0) # sum of differences across clones between top and bottom half (i.e. envs). we want this to be high! we want the tops and bots to be different\n",
        "        across_clones=abs(tops.sum(axis=0) - bots.sum(axis=0)) # for each individual, difference between tops and bots across the clones. you want this to be low\n",
        "        across_envs=across_envs/(int(num_genes_fit/2)*num_clones) # number of genes/2 times number of clones\n",
        "        across_clones=1-(across_clones/(int(num_genes_fit/2)*num_clones)) # number of genes/2 times number of clones, also the lower the better so let's flip\n",
        "       \n",
        "        newfitnesses=across_envs + across_clones - 1\n",
        "        fitnesses=torch.squeeze(newfitnesses)\n",
        "\n",
        "  \n",
        "        if previous_targ!=curr_targ: # checking reduction in fitness right after env change\n",
        "          delta_fit_envchange.append((fitnesses.mean().item())/(ave_fits[-1]))\n",
        "          run.log({'delta_fit_envchange': (fitnesses.mean().item())/(ave_fits[-1])}, commit=False)\n",
        "          delta_fit_envchange_max.append((fitnesses.max().item())/(max_fits[-1]))\n",
        "          run.log({'delta_fit_envchange_max': (fitnesses.max().item())/(max_fits[-1])}, commit=False)\n",
        "\n",
        "        #print(epoc)\n",
        "        if epoc != 0: # if it is not the first epoc\n",
        "          if rebound_time[epoc] == 0: # if for this epoc, fitness rebound hasn't happened yet\n",
        "            if ave_fits[(-1*time_since_change)] <= fitnesses.mean().item(): # if fitness rebounded this generation\n",
        "              rebound_time[epoc] = time_since_change\n",
        "              # if reound_time is 0 somewhere, that means that previous good fitness wasn't found in this epoc. \n",
        "              # if there is a 0 right after, that means that the new \"max\" (final fitness before env change) was also not recovered. \n",
        "              # note the shift in frame of reference\n",
        "\n",
        "          if rebound_time_max[epoc] == 0: # if for this epoc, fitness rebound hasn't happened yet\n",
        "            if max_fits[(-1*time_since_change)] <= fitnesses.max().item(): # if fitness rebounded this generation\n",
        "              rebound_time_max[epoc] = time_since_change\n",
        "              # if reound_time is 0 somewhere, that means that previous good fitness wasn't found in this epoc. \n",
        "              # if there is a 0 right after, that means that the new \"max\" (final fitness before env change) was also not recovered. \n",
        "              # note the shift in frame of reference\n",
        "          if time_since_change == args[\"season_len\"]:\n",
        "            run.log({'rebound_time': rebound_time[epoc]}, commit=False)\n",
        "            run.log({'rebound_time_max': rebound_time_max[epoc]}, commit=False)\n",
        "        \n",
        "        max_fits.append(fitnesses.max().item()) # keeping track of max fitness\n",
        "        ave_fits.append(fitnesses.mean().item()) # keeping track of average fitness\n",
        "        st_div_fits.append(fitnesses.std().item())\n",
        "        run.log({'max_fits': fitnesses.max().item()}, commit=False)\n",
        "        run.log({'ave_fits': fitnesses.mean().item()}, commit=False)\n",
        "        run.log({'st_div_fits': fitnesses.std().item()}, commit=False)\n",
        "\n",
        "        #if gen == (args[\"num_generations\"] - 1):\n",
        "        selection_size=int(args[\"pop_size\"]*0.1)\n",
        "        calc_strategy(phenos, selection_size, targs, args, curr_targ)\n",
        "\n",
        "        # Selection\n",
        "        perm = torch.argsort(fitnesses, descending=True)\n",
        "        parent_locs = perm[:args[\"truncation_size\"]] # location of top x parents in the array of individuals\n",
        "        children_locs = perm[args[\"truncation_size\"]:] # location of individuals that won't survive and hence will be replaced by others' children\n",
        "\n",
        "        #champions.append(state[perm[0]].detach().clone().cpu().squeeze(0).numpy()) # keeping tract of best solution's output\n",
        "        best_grns.append(pop[perm[0]].detach().clone().cpu()) # keeping tract of best solution\n",
        "        #run.log({'champions': state[perm[0]].detach().clone().cpu().squeeze(0).numpy()}, commit=False)\n",
        "        #run.log({'best_grns': pop[perm[0]].detach().clone().cpu()}, commit=False)\n",
        "\n",
        "        ages[parent_locs] += 1 # updating the ages of the individuals\n",
        "        ages[children_locs] = 0\n",
        "\n",
        "        parents = pop[parent_locs].detach().clone() # access parents' matricies\n",
        "        num_child = int(args[\"pop_size\"]/args[\"truncation_size\"]) - 1\n",
        "        children = parents.repeat([num_child, 1, 1]) # create copies of parents\n",
        "\n",
        "        # Mutation\n",
        "        num_genes_mutate = int(args[\"grn_size\"]*args[\"grn_size\"]*len(children) * args[\"mut_rate\"])\n",
        "        mylist = torch.zeros(args[\"grn_size\"]*args[\"grn_size\"]*len(children), device=device)\n",
        "        mylist[:num_genes_mutate] = 1\n",
        "        shuffled_idx = torch.randperm(args[\"grn_size\"]*args[\"grn_size\"]*len(children), device=device)\n",
        "        mask = mylist[shuffled_idx].reshape(len(children),args[\"grn_size\"],args[\"grn_size\"]) #select genes to mutate\n",
        "        children = children + (children*mask)*torch.randn(size=children.shape, device=device) * args[\"mut_size\"]  # mutate only children only at certain genes\n",
        "\n",
        "        pop[children_locs] = children # put children into population\n",
        "\n",
        "\n",
        "        max_ages.append(ages.max().item())\n",
        "        ave_ages.append(ages.mean().item())\n",
        "        run.log({'max_ages': ages.max().item()}, commit=False)\n",
        "        run.log({'ave_ages': ages.mean().item()}, commit=False)\n",
        "\n",
        "        d=torch.mean(torch.std(pop,unbiased=False, dim=0))\n",
        "        diversities.append(d)\n",
        "        run.log({'diversities': d}, commit=True)\n",
        "\n",
        "        previous_targ=curr_targ\n",
        "        if gen % args[\"season_len\"] == args[\"season_len\"] - 1: # flip target\n",
        "            curr_targ = (curr_targ + 1) % 2\n",
        "            #print(time_since_change)\n",
        "            time_since_change = 0\n",
        "            epoc += 1\n",
        "\n",
        "\n",
        "\n",
        "    stats = {}\n",
        "    stats[\"max_fits\"] = max_fits\n",
        "    stats[\"ave_fits\"] = ave_fits\n",
        "    stats[\"st_div_fits\"] = st_div_fits\n",
        "    stats[\"ave_complex\"] = ave_complex\n",
        "    stats[\"delta_fit_envchange\"] = delta_fit_envchange\n",
        "    stats[\"delta_fit_envchange_max\"] = delta_fit_envchange_max\n",
        "    stats[\"rebound_time\"] = rebound_time\n",
        "    stats[\"rebound_time_max\"] = rebound_time_max\n",
        "    #stats[\"champions\"] = champions\n",
        "    stats[\"max_ages\"] = max_ages\n",
        "    stats[\"ave_ages\"] = ave_ages\n",
        "    stats[\"best_grns\"] = best_grns\n",
        "    stats[\"diversities\"] = diversities\n",
        "    with open(f\"{folder}/basic_{title}.pkl\", \"wb\") as f:\n",
        "        pickle.dump(stats, f)\n",
        "\n"
      ]
    },
    {
      "cell_type": "code",
      "execution_count": null,
      "metadata": {
        "colab": {
          "base_uri": "https://localhost:8080/"
        },
        "id": "cK6kyqJ2yfsj",
        "outputId": "2bcac503-b78f-47db-8d73-6eef042c86bd"
      },
      "outputs": [
        {
          "output_type": "stream",
          "name": "stdout",
          "text": [
            "running code\n",
            "{'grn_size': 50, 'pop_size': 1000, 'alpha': 10, 'num_genes_consider': 1, 'mut_rate': 0.1, 'mut_size': 0.5, 'num_generations': 500, 'truncation_prop': 0.2, 'max_age': 100000000000, 'season_len': 20, 'proj': 'phd_chapt_3', 'exp_type': 'testing', 'crossover': 'NO', 'crossover_freq': 0.5, 'adaptive_mut': False, 'meta_mut_rate': 0.01, 'max_iter': 150, 'truncation_size': 200}\n"
          ]
        }
      ],
      "source": [
        "args = {}\n",
        "\n",
        "#parser.add_argument('-grn_size', type=int, default=50, help=\"GRN size\") # number of genes in the GRN\n",
        "args[\"grn_size\"] = 50\n",
        "#parser.add_argument('-pop_size', type=int, default=1000, help=\"Population size\")\n",
        "args[\"pop_size\"] = 1000\n",
        "#parser.add_argument('-alpha', type=int, default=10, help=\"Alpha for sigmoid function\")\n",
        "args[\"alpha\"] = 10\n",
        "#parser.add_argument('-num_genes_consider', type=float, default=0.5, help=\"proportion of genes considered for fitness\")\n",
        "args[\"num_genes_consider\"] = 1\n",
        "#parser.add_argument('-mut_rate', type=float, default=0.1, help=\"rate of mutation (i.e. number of genes to mutate)\")\n",
        "args[\"mut_rate\"] = 0.1\n",
        "#parser.add_argument('-mut_size', type=float, default=0.5, help=\"size of mutation\")\n",
        "args[\"mut_size\"] = 0.5\n",
        "#parser.add_argument('-num_generations', type=int, default=100000, help=\"number of generations to run the experiment for\") # number of generations\n",
        "args[\"num_generations\"] = 500\n",
        "#parser.add_argument('-truncation_prop', type=float, default=0.2, help=\"proportion of individuals selected for reproduction\")\n",
        "args[\"truncation_prop\"] = 0.2\n",
        "#parser.add_argument('-max_age', type=int, default=30, help=\"max age at which individual is replaced by its kid\")\n",
        "args[\"max_age\"] = 100000000000\n",
        "#parser.add_argument('-season_len', type=int, default=100, help=\"number of generations between environmental flips\")\n",
        "args[\"season_len\"] = 20\n",
        "#parser.add_argument('-proj', type=str, default=\"EC_final_project\", help=\"Name of the project (for wandb)\")\n",
        "args[\"proj\"] = \"phd_chapt_3\"\n",
        "#parser.add_argument('-exp_type', type=str, default=\"BASIC\", help=\"Name your experiment for grouping\")\n",
        "args[\"exp_type\"] = \"testing\"\n",
        "\n",
        "#parser.add_argument('-crossover', type=str, default=\"NO\", help=\"Options: NO, uniform, twopoint\")\n",
        "args[\"crossover\"] = \"NO\"\n",
        "#parser.add_argument('-crossover_freq', type=float, default=0.5, help=\"number of individuals that will undergo crossover\")\n",
        "args[\"crossover_freq\"] = 0.5\n",
        "#parser.add_argument('-adaptive_mut', type=bool, default=False, help=\"if you want adaptive mutation rate\")\n",
        "args[\"adaptive_mut\"] = False\n",
        "#parser.add_argument('-meta_mut_rate', type=float, default=0.01, help=\"how much you increase or decrease mut_size and mut_rate\")\n",
        "args[\"meta_mut_rate\"] = 0.01\n",
        "\n",
        "#args = parser.parse_args()\n",
        "\n",
        "print(\"running code\")\n",
        "\n",
        "args[\"max_iter\"] = int(3*args[\"grn_size\"]) # \"Maximum number of GRN updates\") # number of times gene concentrations are updated to get phenotype\n",
        "\n",
        "args[\"truncation_size\"]=int(args[\"truncation_prop\"]*args[\"pop_size\"])\n",
        "\n",
        "print(args)\n",
        "\n",
        "args[\"num_crossover\"] = int(args[\"crossover_freq\"] * args[\"pop_size\"]) #how many individuals will be involved in crossover\n",
        "\n",
        "#assert (\n",
        "    #args[\"num_crossover\"] % 2 == 0\n",
        "#), f\"Error: select different crossover_freq\" #: received {args[\"num_crossover\"]}\"\n",
        "assert (\n",
        "    args[\"pop_size\"] % args[\"truncation_size\"] == 0\n",
        "), \"Error: select different trunction_prop\" #received {args[\"pops_size\"]}\"\n",
        "\n",
        "assert (\n",
        "    int(args[\"num_genes_consider\"]*args[\"grn_size\"]) % 2 == 0\n",
        "), \"Error: select different num_genes_consider, needs to be a multiple of 2\"\n"
      ]
    },
    {
      "cell_type": "code",
      "execution_count": null,
      "metadata": {
        "colab": {
          "base_uri": "https://localhost:8080/",
          "height": 1000,
          "referenced_widgets": [
            "9c692a8a0eca425e9272a6d1b9660775",
            "5dd13db7dcc34fa5a925d40ffb9804b6",
            "c1037cf6c3cd42ea86b569505f4fba05",
            "0e31083bd8174528987dd291de4e8837",
            "0c12e65755444c95a8a3e3ef3feb08d5",
            "dbee1aeb9f5e44d8a02887e7e6719250",
            "35635398855e401aab000d376e30e145",
            "8ae9b8bdeefd47479e78a423d0f87977"
          ]
        },
        "id": "_sjFHlmWzXrd",
        "outputId": "701b8ccd-29d0-4d30-a538-e5d7fcfa2fac"
      },
      "outputs": [
        {
          "output_type": "display_data",
          "data": {
            "text/plain": [
              "<IPython.core.display.HTML object>"
            ],
            "text/html": [
              "Finishing last run (ID:4hevss09) before initializing another..."
            ]
          },
          "metadata": {}
        },
        {
          "output_type": "display_data",
          "data": {
            "text/plain": [
              "<IPython.core.display.HTML object>"
            ],
            "text/html": [
              "Waiting for W&B process to finish... <strong style=\"color:green\">(success).</strong>"
            ]
          },
          "metadata": {}
        },
        {
          "output_type": "display_data",
          "data": {
            "text/plain": [
              "VBox(children=(Label(value='0.001 MB of 0.001 MB uploaded (0.000 MB deduped)\\r'), FloatProgress(value=1.0, max…"
            ],
            "application/vnd.jupyter.widget-view+json": {
              "version_major": 2,
              "version_minor": 0,
              "model_id": "9c692a8a0eca425e9272a6d1b9660775"
            }
          },
          "metadata": {}
        },
        {
          "output_type": "display_data",
          "data": {
            "text/plain": [
              "<IPython.core.display.HTML object>"
            ],
            "text/html": [
              "<style>\n",
              "    table.wandb td:nth-child(1) { padding: 0 10px; text-align: left ; width: auto;} td:nth-child(2) {text-align: left ; width: 100%}\n",
              "    .wandb-row { display: flex; flex-direction: row; flex-wrap: wrap; justify-content: flex-start; width: 100% }\n",
              "    .wandb-col { display: flex; flex-direction: column; flex-basis: 100%; flex: 1; padding: 10px; }\n",
              "    </style>\n",
              "<div class=\"wandb-row\"><div class=\"wandb-col\"><h3>Run history:</h3><br/><table class=\"wandb\"><tr><td>ave_ages</td><td>▁▁▂▄▄▄▅▇▅▅▆▆▆▆▆▅█▅▄▆▆▆▅▆▅▅▅▅▅▄▇▄▄▅▆▅▄▅▇▆</td></tr><tr><td>ave_fits</td><td>▁▁▂▂▂▃▃▄▄▄▄▄▅▅▅▅▅▆▆▆▆▆▆▆▇▇▇▇▇▇▇▇▇███████</td></tr><tr><td>average_complexity</td><td>▁▆████▇███▆█▇██▇██████▅████▆█▆██▇███████</td></tr><tr><td>delta_fit_envchange</td><td>▂█▃▅▃▇▄▁▃▅▁▄▇▅</td></tr><tr><td>delta_fit_envchange_max</td><td>▄█▂▃▁▅▄▃▃▅▃▃▃▃</td></tr><tr><td>diversities</td><td>██▂▄▂▁▁▁▂▂▃▃▃▄▄▄▅▅▄▄▃▃▃▃▃▂▃▃▄▃▃▃▃▄▄▄▅▅▆▆</td></tr><tr><td>gen</td><td>▁▁▁▁▁▁▁▁▁▁▁▁▁▁▁▁▁▁▁▁▁▁▁▁▁▁▁▁▁▁▁▁▁▁▁▁▁▁▁▁</td></tr><tr><td>low</td><td>▁▁▁▁▁▁▁▁▁▁▁▁▁▁▁▁▁▁▁▁▁▁▁▁▁▁▁▁▁▁▁▁▁▁▁▁▁▁▁▁</td></tr><tr><td>max_ages</td><td>▁▂▂▃▂▃▂▄▄▂▄▄▃▄▂▃█▄▅▄▂▅▃▄▄▄▄▃▂▂▄▂▄▄▄▄▂▃▄▃</td></tr><tr><td>max_fits</td><td>▁▁▂▂▃▃▄▄▄▄▄▄▅▅▅▆▅▆▆▆▆▆▆▇▇▇▇▇▇▇▇▇████████</td></tr><tr><td>rebound_time</td><td>▃▁▂▁▂▁▁█▂▁▂▁▁</td></tr><tr><td>rebound_time_max</td><td>▁▁█▂▃▁▁▂▁▁▃▄▁</td></tr><tr><td>spec_A</td><td>▁▁▁▁▁▁▁▁▁▁▁▁▁▁▁▁▁▁▁▁▁▁▁▁▁▁▁▁▁▁▁▁▁▁▁▁▁▁▁▁</td></tr><tr><td>spec_B</td><td>▁▁▁▁▁▁▁▁▁▁▁▁▁▁▁▁▁▁▁▁▁▁▁▁▁▁▁▁▁▁▁▁▁▁▁▁▁▁▁▁</td></tr><tr><td>st_div_fits</td><td>▁▁▂▁▂▂▃▃▄▄▄▄▄▄▄▄▅▅▅▅▆▆▆▆▇▇▇▇▇▇▇▇▇▇██████</td></tr><tr><td>std_of_children</td><td>▁▃▃▄▁▂▂▂▁▂▂▃▃▃▃▃▄▄▄▄▅▇▇▆▅▅▆▆▅▇▆▇▆█▆▇▇▆██</td></tr></table><br/></div><div class=\"wandb-col\"><h3>Run summary:</h3><br/><table class=\"wandb\"><tr><td>ave_ages</td><td>0.333</td></tr><tr><td>ave_fits</td><td>0.40878</td></tr><tr><td>average_complexity</td><td>149.866</td></tr><tr><td>delta_fit_envchange</td><td>1.01444</td></tr><tr><td>delta_fit_envchange_max</td><td>0.99929</td></tr><tr><td>diversities</td><td>0.83217</td></tr><tr><td>gen</td><td>0</td></tr><tr><td>low</td><td>0</td></tr><tr><td>max_ages</td><td>7.0</td></tr><tr><td>max_fits</td><td>0.69195</td></tr><tr><td>rebound_time</td><td>1.0</td></tr><tr><td>rebound_time_max</td><td>1.0</td></tr><tr><td>spec_A</td><td>0</td></tr><tr><td>spec_B</td><td>0</td></tr><tr><td>st_div_fits</td><td>0.15034</td></tr><tr><td>std_of_children</td><td>0.34099</td></tr></table><br/></div></div>"
            ]
          },
          "metadata": {}
        },
        {
          "output_type": "display_data",
          "data": {
            "text/plain": [
              "<IPython.core.display.HTML object>"
            ],
            "text/html": [
              " View run <strong style=\"color:#cdcd00\">festive-springroll-127</strong> at: <a href=\"https://wandb.ai/molanu/phd_chapt_3/runs/4hevss09\" target=\"_blank\">https://wandb.ai/molanu/phd_chapt_3/runs/4hevss09</a><br/>Synced 5 W&B file(s), 0 media file(s), 0 artifact file(s) and 0 other file(s)"
            ]
          },
          "metadata": {}
        },
        {
          "output_type": "display_data",
          "data": {
            "text/plain": [
              "<IPython.core.display.HTML object>"
            ],
            "text/html": [
              "Find logs at: <code>./wandb/run-20230125_200447-4hevss09/logs</code>"
            ]
          },
          "metadata": {}
        },
        {
          "output_type": "display_data",
          "data": {
            "text/plain": [
              "<IPython.core.display.HTML object>"
            ],
            "text/html": [
              "Successfully finished last run (ID:4hevss09). Initializing new run:<br/>"
            ]
          },
          "metadata": {}
        },
        {
          "output_type": "display_data",
          "data": {
            "text/plain": [
              "<IPython.core.display.HTML object>"
            ],
            "text/html": [
              "Tracking run with wandb version 0.13.9"
            ]
          },
          "metadata": {}
        },
        {
          "output_type": "display_data",
          "data": {
            "text/plain": [
              "<IPython.core.display.HTML object>"
            ],
            "text/html": [
              "Run data is saved locally in <code>/content/wandb/run-20230125_200753-davlvyx0</code>"
            ]
          },
          "metadata": {}
        },
        {
          "output_type": "display_data",
          "data": {
            "text/plain": [
              "<IPython.core.display.HTML object>"
            ],
            "text/html": [
              "Syncing run <strong><a href=\"https://wandb.ai/molanu/phd_chapt_3/runs/davlvyx0\" target=\"_blank\">sweet-peony-128</a></strong> to <a href=\"https://wandb.ai/molanu/phd_chapt_3\" target=\"_blank\">Weights & Biases</a> (<a href=\"https://wandb.me/run\" target=\"_blank\">docs</a>)<br/>"
            ]
          },
          "metadata": {}
        },
        {
          "output_type": "display_data",
          "data": {
            "text/plain": [
              "<IPython.core.display.HTML object>"
            ],
            "text/html": [
              " View project at <a href=\"https://wandb.ai/molanu/phd_chapt_3\" target=\"_blank\">https://wandb.ai/molanu/phd_chapt_3</a>"
            ]
          },
          "metadata": {}
        },
        {
          "output_type": "display_data",
          "data": {
            "text/plain": [
              "<IPython.core.display.HTML object>"
            ],
            "text/html": [
              " View run at <a href=\"https://wandb.ai/molanu/phd_chapt_3/runs/davlvyx0\" target=\"_blank\">https://wandb.ai/molanu/phd_chapt_3/runs/davlvyx0</a>"
            ]
          },
          "metadata": {}
        },
        {
          "output_type": "stream",
          "name": "stderr",
          "text": [
            "100%|██████████| 500/500 [05:02<00:00,  1.66it/s]\n"
          ]
        }
      ],
      "source": [
        "run, folder = prepare_run(\"molanu\", args[\"proj\"], args)\n",
        "newfitnesses =evolutionary_algorithm(args, \"place_holder_title\", folder)"
      ]
    },
    {
      "cell_type": "code",
      "source": [
        "402.57/60 #mins"
      ],
      "metadata": {
        "id": "gfsPHBPR2O9b",
        "colab": {
          "base_uri": "https://localhost:8080/"
        },
        "outputId": "3244676f-2b83-4cec-f80e-5811b1fb2fe8"
      },
      "execution_count": null,
      "outputs": [
        {
          "output_type": "execute_result",
          "data": {
            "text/plain": [
              "6.7095"
            ]
          },
          "metadata": {},
          "execution_count": 9
        }
      ]
    },
    {
      "cell_type": "code",
      "source": [
        "#1 hour for 10\n",
        "#10 hours for 100"
      ],
      "metadata": {
        "id": "9LQ4URCXo4Eo"
      },
      "execution_count": null,
      "outputs": []
    },
    {
      "cell_type": "code",
      "source": [
        "device=\"cpu\""
      ],
      "metadata": {
        "id": "IpgLh07g9nCn"
      },
      "execution_count": 6,
      "outputs": []
    },
    {
      "cell_type": "code",
      "source": [
        "import io"
      ],
      "metadata": {
        "id": "b3XBRhEF9nFP"
      },
      "execution_count": 3,
      "outputs": []
    },
    {
      "cell_type": "code",
      "execution_count": 2,
      "metadata": {
        "id": "mOWQUsGM8Qf-"
      },
      "outputs": [],
      "source": [
        "import matplotlib.pyplot as plt\n",
        "import seaborn as sns\n",
        "import pickle\n",
        "import torch"
      ]
    },
    {
      "cell_type": "code",
      "source": [
        "class CPU_Unpickler(pickle.Unpickler):\n",
        "    import io\n",
        "    def find_class(self, module, name):\n",
        "        if module == 'torch.storage' and name == '_load_from_bytes':\n",
        "            return lambda b: torch.load(io.BytesIO(b), map_location='cpu')\n",
        "        else: return super().find_class(module, name)\n",
        "\n",
        "class FakeArgs:\n",
        "    \"\"\"\n",
        "    A simple class imitating the args namespace\n",
        "    \"\"\"\n",
        "\n",
        "    def __repr__(self):\n",
        "        attrs = vars(self)\n",
        "        return \"\\n\".join([f\"{k}: {v}\" for k, v in attrs.items()])\n",
        "\n",
        "def get_phenotypes(args, pop, num_indv, complexities, if_comp):\n",
        "  state = torch.zeros(num_indv, 1, args.grn_size).to(device)\n",
        "  state[:, :, 0] = 1.0 # create input to the GRNs\n",
        "\n",
        "  state_before = torch.zeros(num_indv, 1, args.grn_size).to(device) # keeping track of the last state\n",
        "  for l in range(args.max_iter):\n",
        "    state = torch.matmul(state, pop) # each matrix in the population is multiplied\n",
        "    state = state * args.alpha\n",
        "    state = torch.sigmoid(state) # after which it is put in a sigmoid function to get the output, by default alpha = 1 which is pretty flat, so let's use alpha > 1 (wagner uses infinite) hence the above multiplication\n",
        "    # state = dround(state, 2)\n",
        "    diffs=torch.abs(state_before - state).sum(axis=(1,2))\n",
        "    which_repeat = torch.where(diffs == 0)\n",
        "    if if_comp:\n",
        "      complexities[which_repeat] += 1\n",
        "    state_before = state\n",
        "\n",
        "  if if_comp:\n",
        "    return state, complexities\n",
        "  else:\n",
        "    return state"
      ],
      "metadata": {
        "id": "E0dKuxoNsWt2"
      },
      "execution_count": 4,
      "outputs": []
    },
    {
      "cell_type": "code",
      "execution_count": 5,
      "metadata": {
        "id": "Khs_9-adAU3P"
      },
      "outputs": [],
      "source": [
        "# open a file, where you stored the pickled data\n",
        "#file = open('results/fresh-frost-6/basic_place_holder_title.pkl', 'rb')\n",
        "#file = open('results/sweet-peony-128/basic_place_holder_title.pkl', 'rb')\n",
        "#file = open('lucky_rooster.pkl', 'rb')\n",
        "#file = open('thriving_lamp.pkl', 'rb')\n",
        "file = open('cheerful_kumquat.pkl', 'rb')\n",
        "\n",
        "# dump information to that file\n",
        "data = pickle.load(file)\n",
        "#data = CPU_Unpickler(file).load()"
      ]
    },
    {
      "cell_type": "code",
      "source": [
        "data.keys()"
      ],
      "metadata": {
        "colab": {
          "base_uri": "https://localhost:8080/"
        },
        "id": "RiBOY-LcWLij",
        "outputId": "416d01e8-ab1d-462a-93ca-31d0f976d1ee"
      },
      "execution_count": 6,
      "outputs": [
        {
          "output_type": "execute_result",
          "data": {
            "text/plain": [
              "dict_keys(['max_fits', 'ave_fits', 'st_div_fits', 'ave_complex', 'delta_fit_envchange', 'delta_fit_envchange_max', 'rebound_time', 'rebound_time_max', 'max_ages', 'ave_ages', 'best_grns', 'diversities', 'low', 'spec_A', 'spec_B', 'gen', 'kid_stds', 'args_used'])"
            ]
          },
          "metadata": {},
          "execution_count": 6
        }
      ]
    },
    {
      "cell_type": "code",
      "source": [
        "check_at=-1"
      ],
      "metadata": {
        "id": "ZH5chj-etr6t"
      },
      "execution_count": 7,
      "outputs": []
    },
    {
      "cell_type": "code",
      "execution_count": 8,
      "metadata": {
        "colab": {
          "base_uri": "https://localhost:8080/",
          "height": 337
        },
        "id": "AVONH_588euB",
        "outputId": "12efd9d6-f24d-4b49-bf75-d4cf7685cc94"
      },
      "outputs": [
        {
          "output_type": "stream",
          "name": "stderr",
          "text": [
            "/usr/local/lib/python3.8/dist-packages/seaborn/distributions.py:2619: FutureWarning: `distplot` is a deprecated function and will be removed in a future version. Please adapt your code to use either `displot` (a figure-level function with similar flexibility) or `histplot` (an axes-level function for histograms).\n",
            "  warnings.warn(msg, FutureWarning)\n"
          ]
        },
        {
          "output_type": "execute_result",
          "data": {
            "text/plain": [
              "<matplotlib.axes._subplots.AxesSubplot at 0x7fba35b23580>"
            ]
          },
          "metadata": {},
          "execution_count": 8
        },
        {
          "output_type": "display_data",
          "data": {
            "text/plain": [
              "<Figure size 432x288 with 1 Axes>"
            ],
            "image/png": "[encoded data removed]"
          },
          "metadata": {
            "needs_background": "light"
          }
        }
      ],
      "source": [
        "#sns.distplot(torch.flatten(data[\"best_grns\"][0])) #density=True, alpha = 0.3)\n",
        "#sns.distplot(torch.flatten(data[\"best_grns\"][-1]))\n",
        "sns.distplot(torch.flatten(data[\"best_grns\"][check_at]))\n",
        "#plt.hist(torch.flatten(data[\"best_grns\"][-1]), density=True)"
      ]
    },
    {
      "cell_type": "code",
      "execution_count": 9,
      "metadata": {
        "id": "TNHcd5u_bAI3"
      },
      "outputs": [],
      "source": [
        "final_weights=data[\"best_grns\"][check_at]\n",
        "#final_weights = np.clip(final_weights,-0.001,0.001)"
      ]
    },
    {
      "cell_type": "code",
      "source": [
        "#for row in final_weights:\n",
        "  #print(\"|\".join([ f\"{el:.5f}\"[4:].replace(\"0\",\" \") for el in row.tolist()]))"
      ],
      "metadata": {
        "id": "9onVsdX75xTq"
      },
      "execution_count": null,
      "outputs": []
    },
    {
      "cell_type": "code",
      "source": [
        "args = data[\"args_used\"]"
      ],
      "metadata": {
        "id": "Aww0KBEjr57K"
      },
      "execution_count": 10,
      "outputs": []
    },
    {
      "cell_type": "code",
      "source": [
        "device=\"cuda\""
      ],
      "metadata": {
        "id": "KFXZoUWoiwhM"
      },
      "execution_count": 12,
      "outputs": []
    },
    {
      "cell_type": "code",
      "source": [
        "best_pheno=get_phenotypes(args, final_weights.to(device), 1, 3, False)"
      ],
      "metadata": {
        "id": "4Iluao6HWsr7"
      },
      "execution_count": 13,
      "outputs": []
    },
    {
      "cell_type": "code",
      "execution_count": 14,
      "metadata": {
        "colab": {
          "base_uri": "https://localhost:8080/",
          "height": 286
        },
        "id": "6-iPzUfia0tr",
        "outputId": "2bc7b0f3-25eb-4bb7-e14c-b5f9e760e523"
      },
      "outputs": [
        {
          "output_type": "execute_result",
          "data": {
            "text/plain": [
              "<matplotlib.colorbar.Colorbar at 0x7fba197a6f70>"
            ]
          },
          "metadata": {},
          "execution_count": 14
        },
        {
          "output_type": "display_data",
          "data": {
            "text/plain": [
              "<Figure size 432x288 with 2 Axes>"
            ],
            "image/png": "[encoded data removed]"
          },
          "metadata": {
            "needs_background": "light"
          }
        }
      ],
      "source": [
        "#plt.matshow(data[\"best_grns\"][-1])\n",
        "fig = plt.figure()\n",
        "ax = fig.add_subplot(111)\n",
        "cax = ax.matshow(final_weights)\n",
        "fig.colorbar(cax)"
      ]
    },
    {
      "cell_type": "code",
      "source": [
        "fig = plt.figure()\n",
        "ax = fig.add_subplot(111)\n",
        "cax = ax.plot(best_pheno[0][0].cpu())\n",
        "#fig.colorbar(cax)"
      ],
      "metadata": {
        "colab": {
          "base_uri": "https://localhost:8080/",
          "height": 265
        },
        "id": "M4cMHavh5Yew",
        "outputId": "81895454-82d1-431a-a89b-e67a824b87fc"
      },
      "execution_count": 15,
      "outputs": [
        {
          "output_type": "display_data",
          "data": {
            "text/plain": [
              "<Figure size 432x288 with 1 Axes>"
            ],
            "image/png": "[encoded data removed]"
          },
          "metadata": {
            "needs_background": "light"
          }
        }
      ]
    },
    {
      "cell_type": "code",
      "source": [
        "num_clones=20\n",
        "complexities = 0\n",
        "num_genes_fit = 50\n",
        "\n",
        "clones = data[\"best_grns\"][check_at].to(device).repeat([num_clones, 1, 1]) # create copies of parents\n",
        "\n",
        "# Mutate clones\n",
        "num_genes_mutate = int(args.grn_size*args.grn_size*len(clones) * args.mut_rate)\n",
        "mylist = torch.zeros(args.grn_size*args.grn_size*len(clones), device=device)\n",
        "mylist[:num_genes_mutate] = 1\n",
        "shuffled_idx = torch.randperm(args.grn_size*args.grn_size*len(clones), device=device)\n",
        "mask = mylist[shuffled_idx].reshape(len(clones),args.grn_size,args.grn_size) #select genes to mutate\n",
        "clones = clones + (clones*mask)*torch.randn(size=clones.shape, device=device) * args.mut_size  # mutate only children only at certain genes\n",
        "\n",
        "# Get clone phenotypes\n",
        "clone_states=get_phenotypes(args, clones, num_clones, complexities, if_comp= False)\n",
        "clone_phenos = clone_states[:,:,:num_genes_fit]\n",
        "        \n",
        "#c_genotypes = torch.stack(c_genotypes)\n",
        "#c_phenotypes = torch.stack(c_phenotypes)\n",
        "\n",
        "# Calculate fitness from phenotypes of clones\n",
        "#c_phenotypes=torch.squeeze(c_phenotypes)\n",
        "#tops=c_phenotypes[: , :  , :int(num_genes_fit/2)].sum(axis=-1, keepdims=True)\n",
        "#bots=c_phenotypes[: , :  , int(num_genes_fit/2):].sum(axis=-1, keepdims=True)"
      ],
      "metadata": {
        "id": "ftXVqZCplBgV"
      },
      "execution_count": 16,
      "outputs": []
    },
    {
      "cell_type": "code",
      "source": [
        "clones.size()"
      ],
      "metadata": {
        "colab": {
          "base_uri": "https://localhost:8080/"
        },
        "id": "G0T_XDRk1YSK",
        "outputId": "8d965a40-ace9-4800-b227-10669ecee9f9"
      },
      "execution_count": 17,
      "outputs": [
        {
          "output_type": "execute_result",
          "data": {
            "text/plain": [
              "torch.Size([20, 50, 50])"
            ]
          },
          "metadata": {},
          "execution_count": 17
        }
      ]
    },
    {
      "cell_type": "code",
      "source": [
        "torch.squeeze(clone_phenos).size()"
      ],
      "metadata": {
        "colab": {
          "base_uri": "https://localhost:8080/"
        },
        "id": "DzcZNOO4lC6g",
        "outputId": "67fbbbca-4afc-4e8f-a806-e3f50028149e"
      },
      "execution_count": 18,
      "outputs": [
        {
          "output_type": "execute_result",
          "data": {
            "text/plain": [
              "torch.Size([20, 50])"
            ]
          },
          "metadata": {},
          "execution_count": 18
        }
      ]
    },
    {
      "cell_type": "code",
      "source": [
        "fig = plt.figure()\n",
        "ax = fig.add_subplot(111)\n",
        "cax = ax.matshow(torch.squeeze(clone_phenos).cpu())\n",
        "fig.colorbar(cax)"
      ],
      "metadata": {
        "colab": {
          "base_uri": "https://localhost:8080/",
          "height": 275
        },
        "id": "AqfDuexIlC-V",
        "outputId": "c70093e5-1216-4825-9194-eda97c743e1d"
      },
      "execution_count": 19,
      "outputs": [
        {
          "output_type": "execute_result",
          "data": {
            "text/plain": [
              "<matplotlib.colorbar.Colorbar at 0x7fba19327700>"
            ]
          },
          "metadata": {},
          "execution_count": 19
        },
        {
          "output_type": "display_data",
          "data": {
            "text/plain": [
              "<Figure size 432x288 with 2 Axes>"
            ],
            "image/png": "[encoded data removed]"
          },
          "metadata": {
            "needs_background": "light"
          }
        }
      ]
    },
    {
      "cell_type": "code",
      "source": [
        "def get_internal_states(grn):\n",
        "  grn=grn.to(device)\n",
        "  states=[]\n",
        "  state = torch.zeros(1, 1, args.grn_size).to(device)\n",
        "  state[:, :, 0] = 1.0 # create input to the GRNs\n",
        "\n",
        "  state_before = torch.zeros(1, 1, args.grn_size).to(device) # keeping track of the last state\n",
        "  for l in range(args.max_iter):\n",
        "    states.append(state)\n",
        "    state = torch.matmul(state, grn) # each matrix in the population is multiplied\n",
        "    state = state * args.alpha\n",
        "    state = torch.sigmoid(state) # after which it is put in a sigmoid function to get the output, by default alpha = 1 which is pretty flat, so let's use alpha > 1 (wagner uses infinite) hence the above multiplication\n",
        "    # state = dround(state, 2)\n",
        "    diffs=torch.abs(state_before - state).sum(axis=(1,2))\n",
        "    which_repeat = torch.where(diffs == 0)\n",
        "    state_before = state\n",
        "\n",
        "  states=torch.stack(states)\n",
        "  states=torch.flatten(states,start_dim=1)\n",
        "  return states\n"
      ],
      "metadata": {
        "id": "6_5FJcCMyw69"
      },
      "execution_count": 20,
      "outputs": []
    },
    {
      "cell_type": "code",
      "source": [
        "fig = plt.figure(figsize=(8, 8))\n",
        "ax = fig.add_subplot(111)\n",
        "cax = ax.matshow(get_internal_states(data[\"best_grns\"][check_at]).cpu()[:50,:])\n",
        "fig.colorbar(cax)"
      ],
      "metadata": {
        "colab": {
          "base_uri": "https://localhost:8080/",
          "height": 493
        },
        "id": "VAl2qOLEoWtM",
        "outputId": "eab6951b-3f93-4221-a612-6b6d8bbb4845"
      },
      "execution_count": 21,
      "outputs": [
        {
          "output_type": "execute_result",
          "data": {
            "text/plain": [
              "<matplotlib.colorbar.Colorbar at 0x7fba1924e7c0>"
            ]
          },
          "metadata": {},
          "execution_count": 21
        },
        {
          "output_type": "display_data",
          "data": {
            "text/plain": [
              "<Figure size 576x576 with 2 Axes>"
            ],
            "image/png": "[encoded data removed]"
          },
          "metadata": {
            "needs_background": "light"
          }
        }
      ]
    },
    {
      "cell_type": "code",
      "source": [
        "\n",
        "fig = plt.figure(figsize=(8, 8))\n",
        "ax = fig.add_subplot(111)\n",
        "cax = ax.matshow(get_internal_states(data[\"best_grns\"][-1]).cpu()[:50,:]-get_internal_states(clones[2]).cpu()[:50,:])\n",
        "fig.colorbar(cax)"
      ],
      "metadata": {
        "colab": {
          "base_uri": "https://localhost:8080/",
          "height": 493
        },
        "id": "VWQ19zOSGj_G",
        "outputId": "fa1bdc8b-d3b3-4cea-9113-569a0f564078"
      },
      "execution_count": null,
      "outputs": [
        {
          "output_type": "execute_result",
          "data": {
            "text/plain": [
              "<matplotlib.colorbar.Colorbar at 0x7f2701ca01f0>"
            ]
          },
          "metadata": {},
          "execution_count": 29
        },
        {
          "output_type": "display_data",
          "data": {
            "text/plain": [
              "<Figure size 576x576 with 2 Axes>"
            ],
            "image/png": "[encoded data removed]"
          },
          "metadata": {
            "needs_background": "light"
          }
        }
      ]
    },
    {
      "cell_type": "code",
      "source": [
        "fig = plt.figure(figsize=(8, 8))\n",
        "ax = fig.add_subplot(111)\n",
        "cax = ax.matshow(get_internal_states(data[\"best_grns\"][-1]).cpu()[:50,:]-get_internal_states(clones[0]).cpu()[:50,:])\n",
        "fig.colorbar(cax)"
      ],
      "metadata": {
        "colab": {
          "base_uri": "https://localhost:8080/",
          "height": 493
        },
        "id": "qjySy_mYs9a7",
        "outputId": "0f57f4f1-dc88-4b81-a948-969a2ad01bdb"
      },
      "execution_count": null,
      "outputs": [
        {
          "output_type": "execute_result",
          "data": {
            "text/plain": [
              "<matplotlib.colorbar.Colorbar at 0x7f26fee114c0>"
            ]
          },
          "metadata": {},
          "execution_count": 37
        },
        {
          "output_type": "display_data",
          "data": {
            "text/plain": [
              "<Figure size 576x576 with 2 Axes>"
            ],
            "image/png": "[encoded data removed]"
          },
          "metadata": {
            "needs_background": "light"
          }
        }
      ]
    },
    {
      "cell_type": "code",
      "source": [
        "disagreement = get_internal_states(data[\"best_grns\"][-1]).cpu()[:50,:]-get_internal_states(clones[2]).cpu()[:50,:]\n",
        "plt.plot(disagreement.abs().sum(axis=1))"
      ],
      "metadata": {
        "colab": {
          "base_uri": "https://localhost:8080/",
          "height": 282
        },
        "id": "SFko_qwNG51d",
        "outputId": "42c83d97-5d38-4c77-805b-52c302db14cc"
      },
      "execution_count": null,
      "outputs": [
        {
          "output_type": "execute_result",
          "data": {
            "text/plain": [
              "[<matplotlib.lines.Line2D at 0x7f2701ba5bb0>]"
            ]
          },
          "metadata": {},
          "execution_count": 31
        },
        {
          "output_type": "display_data",
          "data": {
            "text/plain": [
              "<Figure size 432x288 with 1 Axes>"
            ],
            "image/png": "[encoded data removed]"
          },
          "metadata": {
            "needs_background": "light"
          }
        }
      ]
    },
    {
      "cell_type": "code",
      "source": [
        "fig = plt.figure(figsize=(8, 8))\n",
        "ax = fig.add_subplot(111)\n",
        "cax = ax.matshow(get_internal_states(clones[2]).cpu()[:50,:])\n",
        "fig.colorbar(cax)"
      ],
      "metadata": {
        "colab": {
          "base_uri": "https://localhost:8080/",
          "height": 493
        },
        "id": "vJW_FHUfoW12",
        "outputId": "46135fc4-0ca7-404e-8dc0-cd06af3142d0"
      },
      "execution_count": null,
      "outputs": [
        {
          "output_type": "execute_result",
          "data": {
            "text/plain": [
              "<matplotlib.colorbar.Colorbar at 0x7f2701b31370>"
            ]
          },
          "metadata": {},
          "execution_count": 32
        },
        {
          "output_type": "display_data",
          "data": {
            "text/plain": [
              "<Figure size 576x576 with 2 Axes>"
            ],
            "image/png": "[encoded data removed]"
          },
          "metadata": {
            "needs_background": "light"
          }
        }
      ]
    },
    {
      "cell_type": "code",
      "source": [
        "fig,axs = plt.subplots(nrows=5,ncols=4, figsize=(10,12))\n",
        "for i,ax in enumerate(axs.flatten()):\n",
        "  #start = get_internal_states(clones[i]).cpu()[:50,:]\n",
        "  #end = get_internal_states(clones[i]).cpu()[-50:,:]\n",
        "  #ax.imshow(torch.vstack((start, end)), interpolation=\"nearest\")\n",
        "  ax.imshow(get_internal_states(clones[i]).cpu()[-50:,:], interpolation=\"nearest\")\n",
        "  ax.axis(\"off\")\n",
        "plt.tight_layout()\n",
        "plt.subplots_adjust(hspace=0.05,wspace=0.05)\n",
        "plt.show()"
      ],
      "metadata": {
        "colab": {
          "base_uri": "https://localhost:8080/",
          "height": 873
        },
        "id": "Z727LyEclDMX",
        "outputId": "912dc7a7-93e8-42cb-93ff-4bf1c0a49406"
      },
      "execution_count": 22,
      "outputs": [
        {
          "output_type": "display_data",
          "data": {
            "text/plain": [
              "<Figure size 720x864 with 20 Axes>"
            ],
            "image/png": "[encoded data removed]"
          },
          "metadata": {
            "needs_background": "light"
          }
        }
      ]
    },
    {
      "cell_type": "code",
      "source": [
        "fig,axs = plt.subplots(nrows=5,ncols=4, figsize=(12,14))\n",
        "for i,ax in enumerate(axs.flatten()):\n",
        "  #start = get_internal_states(clones[i]).cpu()[:50,:]\n",
        "  #end = get_internal_states(clones[i]).cpu()[-50:,:]\n",
        "  #ax.imshow(torch.vstack((start, end)), interpolation=\"nearest\")\n",
        "  #ax.imshow(get_internal_states(clones[i]).cpu()[:4,:], interpolation=\"nearest\")\n",
        "  #cax = ax.matshow(get_internal_states(data[\"best_grns\"][-1]).cpu()[:50,:]-get_internal_states(clones[i]).cpu()[:50,:])\n",
        "  cax = ax.matshow(get_internal_states(clones[0]).cpu()[:50,:]-get_internal_states(clones[i]).cpu()[:50,:])\n",
        "  ax.axis(\"off\")\n",
        "plt.tight_layout()\n",
        "plt.subplots_adjust(hspace=0.05,wspace=0.05)\n",
        "plt.show()"
      ],
      "metadata": {
        "colab": {
          "base_uri": "https://localhost:8080/",
          "height": 1000
        },
        "id": "2gs_AbgStI7d",
        "outputId": "0faecccf-b78b-4216-d00b-a2ec7dc7a52d"
      },
      "execution_count": null,
      "outputs": [
        {
          "output_type": "display_data",
          "data": {
            "text/plain": [
              "<Figure size 864x1008 with 20 Axes>"
            ],
            "image/png": "[encoded data removed]"
          },
          "metadata": {
            "needs_background": "light"
          }
        }
      ]
    },
    {
      "cell_type": "code",
      "source": [
        "types=np.array([0,0,1,0,0,1,0,1,0,0,0,1,1,1,1,1,1,1,0,0])\n",
        "clones_A=clones[np.where(types == 0)]\n",
        "clones_B=clones[np.where(types == 1)]"
      ],
      "metadata": {
        "id": "nt4t6CotGcsY"
      },
      "execution_count": null,
      "outputs": []
    },
    {
      "cell_type": "code",
      "source": [
        "fadsfa = 31\n",
        "a = torch.vstack([get_internal_states(clones_A[i]).cpu()[fadsfa:fadsfa+1,:] for i in range(10)])\n",
        "b = torch.vstack([get_internal_states(clones_B[i]).cpu()[fadsfa:fadsfa+1,:] for i in range(10)])\n",
        "\n",
        "plt.imshow(a)\n",
        "plt.axis(\"off\")\n",
        "plt.tight_layout()\n",
        "plt.show()\n",
        "\n",
        "plt.imshow(b)\n",
        "plt.axis(\"off\")\n",
        "plt.tight_layout()\n",
        "plt.show()"
      ],
      "metadata": {
        "colab": {
          "base_uri": "https://localhost:8080/",
          "height": 209
        },
        "id": "1np5mjMREbz6",
        "outputId": "927bab9a-3869-4f8c-f0d4-3d7367f4c2cb"
      },
      "execution_count": null,
      "outputs": [
        {
          "output_type": "display_data",
          "data": {
            "text/plain": [
              "<Figure size 432x288 with 1 Axes>"
            ],
            "image/png": "[encoded data removed]"
          },
          "metadata": {
            "needs_background": "light"
          }
        },
        {
          "output_type": "display_data",
          "data": {
            "text/plain": [
              "<Figure size 432x288 with 1 Axes>"
            ],
            "image/png": "[encoded data removed]"
          },
          "metadata": {
            "needs_background": "light"
          }
        }
      ]
    },
    {
      "cell_type": "code",
      "source": [],
      "metadata": {
        "id": "HpZ3PByVFLV7"
      },
      "execution_count": null,
      "outputs": []
    },
    {
      "cell_type": "code",
      "source": [
        "fig,axs = plt.subplots(nrows=10,ncols=1, figsize=(8,4))\n",
        "for i,ax in enumerate(axs.flatten()):\n",
        "  #start = get_internal_states(clones[i]).cpu()[-1:,:]\n",
        "  #end = get_internal_states(clones[i]).cpu()[2:3,:]\n",
        "  #ax.imshow(torch.vstack((start, end)), interpolation=\"nearest\")\n",
        "  ax.imshow(get_internal_states(clones_B[i]).cpu()[2:3,:], interpolation=\"nearest\")\n",
        "  ax.axis(\"off\")\n",
        "plt.tight_layout()\n",
        "plt.subplots_adjust(hspace=0.,wspace=0.)\n",
        "plt.show()"
      ],
      "metadata": {
        "id": "iWWsdpr8Eb34"
      },
      "execution_count": null,
      "outputs": []
    },
    {
      "cell_type": "code",
      "source": [],
      "metadata": {
        "id": "MWPvuGNMEb7W"
      },
      "execution_count": null,
      "outputs": []
    },
    {
      "cell_type": "code",
      "source": [],
      "metadata": {
        "id": "CophPJkREb_y"
      },
      "execution_count": null,
      "outputs": []
    },
    {
      "cell_type": "markdown",
      "source": [
        "-------"
      ],
      "metadata": {
        "id": "EZBlYpNRy2Gv"
      }
    },
    {
      "cell_type": "code",
      "execution_count": null,
      "metadata": {
        "colab": {
          "base_uri": "https://localhost:8080/"
        },
        "id": "wsO9O2sFeTGt",
        "outputId": "9c5119bb-7619-4c74-80a2-390cbfb002d8"
      },
      "outputs": [
        {
          "data": {
            "text/plain": [
              "(26, 5)"
            ]
          },
          "execution_count": 6,
          "metadata": {},
          "output_type": "execute_result"
        }
      ],
      "source": [
        "divmod(torch.abs(final_weights).argmax().item(), final_weights.shape[1]) #coordinates of highest deviation from 0"
      ]
    },
    {
      "cell_type": "code",
      "execution_count": null,
      "metadata": {
        "colab": {
          "base_uri": "https://localhost:8080/"
        },
        "id": "JIqYgvmSbtAq",
        "outputId": "cd1bd51e-680d-4e5c-fd45-253f5701b65a"
      },
      "outputs": [
        {
          "data": {
            "text/plain": [
              "tensor(5)"
            ]
          },
          "execution_count": 7,
          "metadata": {},
          "output_type": "execute_result"
        }
      ],
      "source": [
        "torch.abs(final_weights).mean(0).argmax() # which column on average highest deviation from 0"
      ]
    },
    {
      "cell_type": "code",
      "execution_count": null,
      "metadata": {
        "colab": {
          "base_uri": "https://localhost:8080/"
        },
        "id": "AbLEDGE7dCg3",
        "outputId": "ae4ee351-15df-4b57-ef4a-274ca0f068c8"
      },
      "outputs": [
        {
          "data": {
            "text/plain": [
              "tensor(26)"
            ]
          },
          "execution_count": 8,
          "metadata": {},
          "output_type": "execute_result"
        }
      ],
      "source": [
        "torch.abs(final_weights).mean(1).argmax() # which row on average highest deviation from 0"
      ]
    },
    {
      "cell_type": "code",
      "execution_count": null,
      "metadata": {
        "colab": {
          "base_uri": "https://localhost:8080/"
        },
        "id": "I4skHUb0dDMd",
        "outputId": "184e57d1-ab82-4ea0-965b-cc68678a64cf"
      },
      "outputs": [
        {
          "name": "stdout",
          "output_type": "stream",
          "text": [
            "1305\n",
            "(26, 5)\n",
            "1811\n",
            "(36, 11)\n",
            "205\n",
            "(4, 5)\n"
          ]
        }
      ],
      "source": [
        "tops=torch.topk(torch.abs(final_weights).flatten(), 3).indices\n",
        "for t in tops:\n",
        "  print(t.item())\n",
        "  print(divmod(t.item(), final_weights.shape[1]))"
      ]
    },
    {
      "cell_type": "code",
      "execution_count": null,
      "metadata": {
        "id": "H-Iguq2C8Xod"
      },
      "outputs": [],
      "source": [
        "def calc_rob(pop, ssize, rounds, args):\n",
        "    ave_exp_rob = []\n",
        "    ave_fit_rob = []\n",
        "    ave_ben_mut = []\n",
        "    ave_del_mut = []\n",
        "    sample = np.random.choice(pop, ssize, replace=False)\n",
        "    for p in sample:\n",
        "        exp_rob = 0\n",
        "        fit_rob = 0\n",
        "        ben_mut = 0\n",
        "        del_mut = 0\n",
        "        ori_grn_out = p.grn_output()\n",
        "        ori_fitness = fitness_function(ori_grn_out,envs,state,args)\n",
        "        for mut in range(rounds):\n",
        "            sample_cp = deepcopy(p)\n",
        "            sample_cp.mut_edge()\n",
        "            new_grn_out = sample_cp.grn_output()\n",
        "            new_fitness = fitness_function(new_grn_out,envs,state,args)\n",
        "            if np.array_equal(ori_grn_out,new_grn_out):\n",
        "                exp_rob += 1\n",
        "                fit_rob += 1\n",
        "            else:\n",
        "                if new_fitness > ori_fitness:\n",
        "                    ben_mut +=1\n",
        "                elif new_fitness < ori_fitness:\n",
        "                    del_mut += 1\n",
        "                else:\n",
        "                    fit_rob += 1\n",
        "        if exp_rob > 0:\n",
        "            ave_exp_rob.append(exp_rob/rounds)\n",
        "        else:\n",
        "            ave_exp_rob.append(exp_rob)\n",
        "        if fit_rob > 0:\n",
        "            ave_fit_rob.append(fit_rob/rounds)\n",
        "        else:\n",
        "            ave_fit_rob.append(fit_rob)\n",
        "        if del_mut > 0:\n",
        "            ave_del_mut.append(del_mut/(rounds - fit_rob))\n",
        "        else:\n",
        "            ave_del_mut.append(del_mut)\n",
        "        if ben_mut > 0:\n",
        "            ave_ben_mut.append(ben_mut/(rounds - fit_rob))\n",
        "        else:\n",
        "            ave_ben_mut.append(ben_mut)\n",
        "    return(np.average(ave_exp_rob), np.average(ave_fit_rob), np.average(ave_ben_mut), np.average(ave_del_mut))\n"
      ]
    },
    {
      "cell_type": "code",
      "source": [],
      "metadata": {
        "id": "-nNdhSVTZlSb"
      },
      "execution_count": null,
      "outputs": []
    },
    {
      "cell_type": "code",
      "source": [],
      "metadata": {
        "id": "bQOyyrOVZlVT"
      },
      "execution_count": null,
      "outputs": []
    },
    {
      "cell_type": "code",
      "source": [],
      "metadata": {
        "id": "1TDRhH1zZlYJ"
      },
      "execution_count": null,
      "outputs": []
    },
    {
      "cell_type": "code",
      "source": [
        "def epi(x):\n",
        "  mmax=0.5\n",
        "  mmin=-0.5\n",
        "  k=3\n",
        "\n",
        "  x=x-mmax\n",
        "  a=(mmax+mmax)/(math.e**(mmax*k) - math.e**(mmin*k))\n",
        "  b=mmin-a*math.e**(mmin*k)\n",
        "\n",
        "  y=a*math.e**(k*x) + b\n",
        "\n",
        "  return y + mmax"
      ],
      "metadata": {
        "id": "k8M9yC3IZjdk"
      },
      "execution_count": null,
      "outputs": []
    },
    {
      "cell_type": "code",
      "source": [
        "epi(0.5)"
      ],
      "metadata": {
        "colab": {
          "base_uri": "https://localhost:8080/"
        },
        "id": "EMQlhNSWZ091",
        "outputId": "6a5f50da-b321-4153-ead9-732d00eaf854"
      },
      "execution_count": null,
      "outputs": [
        {
          "output_type": "execute_result",
          "data": {
            "text/plain": [
              "0.18242552380635635"
            ]
          },
          "metadata": {},
          "execution_count": 8
        }
      ]
    },
    {
      "cell_type": "code",
      "source": [
        "import networkx as nx\n",
        "A=np.array(data[\"best_grns\"][-1])\n",
        "G = nx.from_numpy_array(A)\n",
        "elarge = [(u, v) for (u, v, d) in G.edges(data=True) if d[\"weight\"] > 100]\n",
        "esmall = [(u, v) for (u, v, d) in G.edges(data=True) if d[\"weight\"] <= 0.5]\n",
        "\n",
        "pos = nx.spring_layout(G, seed=7)  # positions for all nodes - seed for reproducibility\n",
        "\n",
        "# nodes\n",
        "nx.draw_networkx_nodes(G, pos, node_size=700)\n",
        "\n",
        "# edges\n",
        "nx.draw_networkx_edges(G, pos, edgelist=elarge, width=6)\n",
        "nx.draw_networkx_edges(\n",
        "    G, pos, edgelist=esmall, width=0.2, alpha=0.5, edge_color=\"b\", style=\"dashed\"\n",
        ")\n",
        "\n",
        "# node labels\n",
        "nx.draw_networkx_labels(G, pos, font_size=20, font_family=\"sans-serif\")\n",
        "# edge weight labels\n",
        "# edge_labels = nx.get_edge_attributes(G, \"weight\")\n",
        "# nx.draw_networkx_edge_labels(G, pos, edge_labels)\n",
        "\n",
        "ax = plt.gca()\n",
        "ax.margins(0.08)\n",
        "plt.axis(\"off\")\n",
        "plt.tight_layout()\n",
        "plt.show()\n",
        "\n",
        "from networkx.convert import from_edgelist\n",
        "\n",
        "G = nx.DiGraph()\n",
        "\n",
        "for i in range(A.shape[0]):\n",
        "  for j in range(A.shape[1]):\n",
        "    if np.abs(A[i,j]) > 1:\n",
        "      G.add_edge(i,j, weight=A[i,j])\n",
        "\n",
        "nx.draw(G)\n",
        "\n",
        "edges=[]\n",
        "for i in range(A.shape[0]):\n",
        "  for j in range(A.shape[1]):\n",
        "    if np.abs(A[i,j]) > 1:\n",
        "      edges.append((i,j,A[i,j]))\n",
        "print(edges)\n",
        "\n",
        "with open(\"edges.csv\",\"w\") as f:\n",
        "  f.write(\"source, target, type, weight\\n\")\n",
        "  for fr, to, we in edges:\n",
        "    f.write(f\"{fr},{to},directed,{we:.3f}\\n\")"
      ],
      "metadata": {
        "id": "2n3ZmSW2gXLw"
      },
      "execution_count": null,
      "outputs": []
    }
  ],
  "metadata": {
    "colab": {
      "provenance": []
    },
    "gpuClass": "standard",
    "kernelspec": {
      "display_name": "Python 3",
      "name": "python3"
    },
    "language_info": {
      "name": "python"
    },
    "widgets": {
      "application/vnd.jupyter.widget-state+json": {
        "9c692a8a0eca425e9272a6d1b9660775": {
          "model_module": "@jupyter-widgets/controls",
          "model_name": "VBoxModel",
          "model_module_version": "1.5.0",
          "state": {
            "_dom_classes": [],
            "_model_module": "@jupyter-widgets/controls",
            "_model_module_version": "1.5.0",
            "_model_name": "VBoxModel",
            "_view_count": null,
            "_view_module": "@jupyter-widgets/controls",
            "_view_module_version": "1.5.0",
            "_view_name": "VBoxView",
            "box_style": "",
            "children": [
              "IPY_MODEL_5dd13db7dcc34fa5a925d40ffb9804b6",
              "IPY_MODEL_c1037cf6c3cd42ea86b569505f4fba05"
            ],
            "layout": "IPY_MODEL_0e31083bd8174528987dd291de4e8837"
          }
        },
        "5dd13db7dcc34fa5a925d40ffb9804b6": {
          "model_module": "@jupyter-widgets/controls",
          "model_name": "LabelModel",
          "model_module_version": "1.5.0",
          "state": {
            "_dom_classes": [],
            "_model_module": "@jupyter-widgets/controls",
            "_model_module_version": "1.5.0",
            "_model_name": "LabelModel",
            "_view_count": null,
            "_view_module": "@jupyter-widgets/controls",
            "_view_module_version": "1.5.0",
            "_view_name": "LabelView",
            "description": "",
            "description_tooltip": null,
            "layout": "IPY_MODEL_0c12e65755444c95a8a3e3ef3feb08d5",
            "placeholder": "​",
            "style": "IPY_MODEL_dbee1aeb9f5e44d8a02887e7e6719250",
            "value": "0.001 MB of 0.001 MB uploaded (0.000 MB deduped)\r"
          }
        },
        "c1037cf6c3cd42ea86b569505f4fba05": {
          "model_module": "@jupyter-widgets/controls",
          "model_name": "FloatProgressModel",
          "model_module_version": "1.5.0",
          "state": {
            "_dom_classes": [],
            "_model_module": "@jupyter-widgets/controls",
            "_model_module_version": "1.5.0",
            "_model_name": "FloatProgressModel",
            "_view_count": null,
            "_view_module": "@jupyter-widgets/controls",
            "_view_module_version": "1.5.0",
            "_view_name": "ProgressView",
            "bar_style": "",
            "description": "",
            "description_tooltip": null,
            "layout": "IPY_MODEL_35635398855e401aab000d376e30e145",
            "max": 1,
            "min": 0,
            "orientation": "horizontal",
            "style": "IPY_MODEL_8ae9b8bdeefd47479e78a423d0f87977",
            "value": 1
          }
        },
        "0e31083bd8174528987dd291de4e8837": {
          "model_module": "@jupyter-widgets/base",
          "model_name": "LayoutModel",
          "model_module_version": "1.2.0",
          "state": {
            "_model_module": "@jupyter-widgets/base",
            "_model_module_version": "1.2.0",
            "_model_name": "LayoutModel",
            "_view_count": null,
            "_view_module": "@jupyter-widgets/base",
            "_view_module_version": "1.2.0",
            "_view_name": "LayoutView",
            "align_content": null,
            "align_items": null,
            "align_self": null,
            "border": null,
            "bottom": null,
            "display": null,
            "flex": null,
            "flex_flow": null,
            "grid_area": null,
            "grid_auto_columns": null,
            "grid_auto_flow": null,
            "grid_auto_rows": null,
            "grid_column": null,
            "grid_gap": null,
            "grid_row": null,
            "grid_template_areas": null,
            "grid_template_columns": null,
            "grid_template_rows": null,
            "height": null,
            "justify_content": null,
            "justify_items": null,
            "left": null,
            "margin": null,
            "max_height": null,
            "max_width": null,
            "min_height": null,
            "min_width": null,
            "object_fit": null,
            "object_position": null,
            "order": null,
            "overflow": null,
            "overflow_x": null,
            "overflow_y": null,
            "padding": null,
            "right": null,
            "top": null,
            "visibility": null,
            "width": null
          }
        },
        "0c12e65755444c95a8a3e3ef3feb08d5": {
          "model_module": "@jupyter-widgets/base",
          "model_name": "LayoutModel",
          "model_module_version": "1.2.0",
          "state": {
            "_model_module": "@jupyter-widgets/base",
            "_model_module_version": "1.2.0",
            "_model_name": "LayoutModel",
            "_view_count": null,
            "_view_module": "@jupyter-widgets/base",
            "_view_module_version": "1.2.0",
            "_view_name": "LayoutView",
            "align_content": null,
            "align_items": null,
            "align_self": null,
            "border": null,
            "bottom": null,
            "display": null,
            "flex": null,
            "flex_flow": null,
            "grid_area": null,
            "grid_auto_columns": null,
            "grid_auto_flow": null,
            "grid_auto_rows": null,
            "grid_column": null,
            "grid_gap": null,
            "grid_row": null,
            "grid_template_areas": null,
            "grid_template_columns": null,
            "grid_template_rows": null,
            "height": null,
            "justify_content": null,
            "justify_items": null,
            "left": null,
            "margin": null,
            "max_height": null,
            "max_width": null,
            "min_height": null,
            "min_width": null,
            "object_fit": null,
            "object_position": null,
            "order": null,
            "overflow": null,
            "overflow_x": null,
            "overflow_y": null,
            "padding": null,
            "right": null,
            "top": null,
            "visibility": null,
            "width": null
          }
        },
        "dbee1aeb9f5e44d8a02887e7e6719250": {
          "model_module": "@jupyter-widgets/controls",
          "model_name": "DescriptionStyleModel",
          "model_module_version": "1.5.0",
          "state": {
            "_model_module": "@jupyter-widgets/controls",
            "_model_module_version": "1.5.0",
            "_model_name": "DescriptionStyleModel",
            "_view_count": null,
            "_view_module": "@jupyter-widgets/base",
            "_view_module_version": "1.2.0",
            "_view_name": "StyleView",
            "description_width": ""
          }
        },
        "35635398855e401aab000d376e30e145": {
          "model_module": "@jupyter-widgets/base",
          "model_name": "LayoutModel",
          "model_module_version": "1.2.0",
          "state": {
            "_model_module": "@jupyter-widgets/base",
            "_model_module_version": "1.2.0",
            "_model_name": "LayoutModel",
            "_view_count": null,
            "_view_module": "@jupyter-widgets/base",
            "_view_module_version": "1.2.0",
            "_view_name": "LayoutView",
            "align_content": null,
            "align_items": null,
            "align_self": null,
            "border": null,
            "bottom": null,
            "display": null,
            "flex": null,
            "flex_flow": null,
            "grid_area": null,
            "grid_auto_columns": null,
            "grid_auto_flow": null,
            "grid_auto_rows": null,
            "grid_column": null,
            "grid_gap": null,
            "grid_row": null,
            "grid_template_areas": null,
            "grid_template_columns": null,
            "grid_template_rows": null,
            "height": null,
            "justify_content": null,
            "justify_items": null,
            "left": null,
            "margin": null,
            "max_height": null,
            "max_width": null,
            "min_height": null,
            "min_width": null,
            "object_fit": null,
            "object_position": null,
            "order": null,
            "overflow": null,
            "overflow_x": null,
            "overflow_y": null,
            "padding": null,
            "right": null,
            "top": null,
            "visibility": null,
            "width": null
          }
        },
        "8ae9b8bdeefd47479e78a423d0f87977": {
          "model_module": "@jupyter-widgets/controls",
          "model_name": "ProgressStyleModel",
          "model_module_version": "1.5.0",
          "state": {
            "_model_module": "@jupyter-widgets/controls",
            "_model_module_version": "1.5.0",
            "_model_name": "ProgressStyleModel",
            "_view_count": null,
            "_view_module": "@jupyter-widgets/base",
            "_view_module_version": "1.2.0",
            "_view_name": "StyleView",
            "bar_color": null,
            "description_width": ""
          }
        }
      }
    },
    "accelerator": "GPU"
  },
  "nbformat": 4,
  "nbformat_minor": 0
}