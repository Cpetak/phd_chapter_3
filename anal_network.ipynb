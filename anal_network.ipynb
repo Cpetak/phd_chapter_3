{
 "cells": [
  {
   "cell_type": "code",
   "execution_count": 55,
   "metadata": {
    "id": "IpgLh07g9nCn"
   },
   "outputs": [],
   "source": [
    "device=\"cpu\"\n",
    "#device=\"cuda\"\n",
    "import io\n",
    "import matplotlib.pyplot as plt\n",
    "import seaborn as sns\n",
    "import pickle\n",
    "import torch\n",
    "import numpy as np"
   ]
  },
  {
   "cell_type": "code",
   "execution_count": 56,
   "metadata": {
    "id": "E0dKuxoNsWt2"
   },
   "outputs": [],
   "source": [
    "class CPU_Unpickler(pickle.Unpickler):\n",
    "    import io\n",
    "    def find_class(self, module, name):\n",
    "        if module == 'torch.storage' and name == '_load_from_bytes':\n",
    "            return lambda b: torch.load(io.BytesIO(b), map_location='cpu')\n",
    "        else: return super().find_class(module, name)\n",
    "\n",
    "class FakeArgs:\n",
    "    \"\"\"\n",
    "    A simple class imitating the args namespace\n",
    "    \"\"\"\n",
    "\n",
    "    def __repr__(self):\n",
    "        attrs = vars(self)\n",
    "        return \"\\n\".join([f\"{k}: {v}\" for k, v in attrs.items()])\n",
    "\n",
    "def get_phenotypes(args, pop, num_indv, complexities, if_comp):\n",
    "  state = torch.zeros(num_indv, 1, args.grn_size).to(device)\n",
    "  state[:, :, 0] = 1.0 # create input to the GRNs\n",
    "\n",
    "  state_before = torch.zeros(num_indv, 1, args.grn_size).to(device) # keeping track of the last state\n",
    "  for l in range(args.max_iter):\n",
    "    state = torch.matmul(state, pop) # each matrix in the population is multiplied\n",
    "    state = state * args.alpha\n",
    "    state = torch.sigmoid(state) # after which it is put in a sigmoid function to get the output, by default alpha = 1 which is pretty flat, so let's use alpha > 1 (wagner uses infinite) hence the above multiplication\n",
    "    # state = dround(state, 2)\n",
    "    diffs=torch.abs(state_before - state).sum(axis=(1,2))\n",
    "    which_repeat = torch.where(diffs == 0)\n",
    "    if if_comp:\n",
    "      complexities[which_repeat] += 1\n",
    "    state_before = state\n",
    "\n",
    "  if if_comp:\n",
    "    return state, complexities\n",
    "  else:\n",
    "    return state"
   ]
  },
  {
   "cell_type": "code",
   "execution_count": 57,
   "metadata": {
    "id": "6_5FJcCMyw69"
   },
   "outputs": [],
   "source": [
    "def get_internal_states(grn):\n",
    "  grn=grn.to(device)\n",
    "  states=[]\n",
    "  state = torch.zeros(1, 1, args.grn_size).to(device)\n",
    "  state[:, :, 0] = 1.0 # create input to the GRNs\n",
    "\n",
    "  state_before = torch.zeros(1, 1, args.grn_size).to(device) # keeping track of the last state\n",
    "  for l in range(args.max_iter):\n",
    "    states.append(state)\n",
    "    state = torch.matmul(state, grn) # each matrix in the population is multiplied\n",
    "    state = state * args.alpha\n",
    "    state = torch.sigmoid(state) # after which it is put in a sigmoid function to get the output, by default alpha = 1 which is pretty flat, so let's use alpha > 1 (wagner uses infinite) hence the above multiplication\n",
    "    # state = dround(state, 2)\n",
    "    diffs=torch.abs(state_before - state).sum(axis=(1,2))\n",
    "    which_repeat = torch.where(diffs == 0)\n",
    "    state_before = state\n",
    "\n",
    "  states=torch.stack(states)\n",
    "  states=torch.flatten(states,start_dim=1)\n",
    "  return states\n"
   ]
  },
  {
   "cell_type": "code",
   "execution_count": 58,
   "metadata": {
    "id": "Khs_9-adAU3P"
   },
   "outputs": [],
   "source": [
    "# open a file, where you stored the pickled data\n",
    "file = open('results/scintillating-wish-132/BASIC.pkl', 'rb')\n",
    "\n",
    "# dump information to that file\n",
    "#data = pickle.load(file)\n",
    "data = CPU_Unpickler(file).load()"
   ]
  },
  {
   "cell_type": "code",
   "execution_count": 59,
   "metadata": {
    "colab": {
     "base_uri": "https://localhost:8080/"
    },
    "id": "RiBOY-LcWLij",
    "outputId": "416d01e8-ab1d-462a-93ca-31d0f976d1ee"
   },
   "outputs": [
    {
     "data": {
      "text/plain": [
       "dict_keys(['max_fits', 'ave_fits', 'st_div_fits', 'ave_complex', 'delta_fit_envchange', 'delta_fit_envchange_max', 'rebound_time', 'rebound_time_max', 'max_ages', 'ave_ages', 'best_grns', 'diversities', 'low', 'spec_A', 'spec_B', 'gen', 'kid_stds', 'args_used'])"
      ]
     },
     "execution_count": 59,
     "metadata": {},
     "output_type": "execute_result"
    }
   ],
   "source": [
    "data.keys()"
   ]
  },
  {
   "cell_type": "code",
   "execution_count": 60,
   "metadata": {
    "id": "ZH5chj-etr6t"
   },
   "outputs": [],
   "source": [
    "#check_at=556\n",
    "check_at = 1520#20000#lucky rooster 1513\n",
    "#check_at = -1"
   ]
  },
  {
   "cell_type": "code",
   "execution_count": 51,
   "metadata": {
    "colab": {
     "base_uri": "https://localhost:8080/",
     "height": 337
    },
    "id": "AVONH_588euB",
    "outputId": "12efd9d6-f24d-4b49-bf75-d4cf7685cc94"
   },
   "outputs": [],
   "source": [
    "#sns.distplot(torch.flatten(data[\"best_grns\"][0])) #density=True, alpha = 0.3)\n",
    "#sns.distplot(torch.flatten(data[\"best_grns\"][-1]))\n",
    "#sns.distplot(torch.flatten(data[\"best_grns\"][check_at]))\n",
    "#plt.hist(torch.flatten(data[\"best_grns\"][-1]), density=True)"
   ]
  },
  {
   "cell_type": "code",
   "execution_count": 61,
   "metadata": {
    "id": "TNHcd5u_bAI3"
   },
   "outputs": [],
   "source": [
    "final_weights=data[\"best_grns\"][check_at]\n",
    "args = data[\"args_used\"]\n",
    "#final_weights = np.clip(final_weights,-0.001,0.001)"
   ]
  },
  {
   "cell_type": "code",
   "execution_count": 62,
   "metadata": {},
   "outputs": [],
   "source": [
    "final_weights = torch.Tensor(final_weights)"
   ]
  },
  {
   "cell_type": "code",
   "execution_count": 63,
   "metadata": {
    "id": "4Iluao6HWsr7"
   },
   "outputs": [],
   "source": [
    "best_pheno=get_phenotypes(args, final_weights.to(device), 1, 3, False)"
   ]
  },
  {
   "cell_type": "code",
   "execution_count": 64,
   "metadata": {
    "colab": {
     "base_uri": "https://localhost:8080/",
     "height": 286
    },
    "id": "6-iPzUfia0tr",
    "outputId": "2bc7b0f3-25eb-4bb7-e14c-b5f9e760e523"
   },
   "outputs": [],
   "source": [
    "#plt.matshow(data[\"best_grns\"][-1])\n",
    "#fig = plt.figure()\n",
    "#ax = fig.add_subplot(111)\n",
    "#cax = ax.matshow(final_weights)\n",
    "#fig.colorbar(cax)"
   ]
  },
  {
   "cell_type": "code",
   "execution_count": 65,
   "metadata": {
    "colab": {
     "base_uri": "https://localhost:8080/",
     "height": 265
    },
    "id": "M4cMHavh5Yew",
    "outputId": "81895454-82d1-431a-a89b-e67a824b87fc"
   },
   "outputs": [
    {
     "data": {
      "text/plain": [
       "<matplotlib.image.AxesImage at 0x2b85b58827f0>"
      ]
     },
     "execution_count": 65,
     "metadata": {},
     "output_type": "execute_result"
    },
    {
     "data": {
      "image/png": "[encoded data removed]",
      "text/plain": [
       "<Figure size 432x288 with 1 Axes>"
      ]
     },
     "metadata": {
      "needs_background": "light"
     },
     "output_type": "display_data"
    }
   ],
   "source": [
    "fig = plt.figure(figsize=(6,4))\n",
    "#ax = fig.add_subplot(111)\n",
    "#cax = ax.plot(best_pheno[0][0].cpu(),'.')\n",
    "#plt.plot(best_pheno[0][0].cpu(),'.')\n",
    "a = np.expand_dims(np.array(best_pheno[0][0].cpu()), axis=0)\n",
    "plt.imshow(a)\n",
    "#fig.colorbar(cax)"
   ]
  },
  {
   "cell_type": "code",
   "execution_count": 66,
   "metadata": {
    "id": "ftXVqZCplBgV"
   },
   "outputs": [],
   "source": [
    "num_clones=20\n",
    "complexities = 0\n",
    "num_genes_fit = 50\n",
    "\n",
    "clones = final_weights.to(device).repeat([num_clones, 1, 1]) # create copies of parents\n",
    "\n",
    "# Mutate clones\n",
    "num_genes_mutate = int(args.grn_size*args.grn_size*len(clones) * args.mut_rate)\n",
    "mylist = torch.zeros(args.grn_size*args.grn_size*len(clones), device=device)\n",
    "mylist[:num_genes_mutate] = 1\n",
    "shuffled_idx = torch.randperm(args.grn_size*args.grn_size*len(clones), device=device)\n",
    "mask = mylist[shuffled_idx].reshape(len(clones),args.grn_size,args.grn_size) #select genes to mutate\n",
    "clones = clones + (clones*mask)*torch.randn(size=clones.shape, device=device) * args.mut_size  # mutate only children only at certain genes\n",
    "\n",
    "# Get clone phenotypes\n",
    "clone_states=get_phenotypes(args, clones, num_clones, complexities, if_comp= False)\n",
    "clone_phenos = clone_states[:,:,:num_genes_fit]\n",
    "        \n",
    "#c_genotypes = torch.stack(c_genotypes)\n",
    "#c_phenotypes = torch.stack(c_phenotypes)\n",
    "\n",
    "# Calculate fitness from phenotypes of clones\n",
    "#c_phenotypes=torch.squeeze(c_phenotypes)\n",
    "#tops=c_phenotypes[: , :  , :int(num_genes_fit/2)].sum(axis=-1, keepdims=True)\n",
    "#bots=c_phenotypes[: , :  , int(num_genes_fit/2):].sum(axis=-1, keepdims=True)"
   ]
  },
  {
   "cell_type": "code",
   "execution_count": 67,
   "metadata": {
    "colab": {
     "base_uri": "https://localhost:8080/",
     "height": 275
    },
    "id": "AqfDuexIlC-V",
    "outputId": "c70093e5-1216-4825-9194-eda97c743e1d"
   },
   "outputs": [
    {
     "data": {
      "text/plain": [
       "<matplotlib.image.AxesImage at 0x2b85b5588340>"
      ]
     },
     "execution_count": 67,
     "metadata": {},
     "output_type": "execute_result"
    },
    {
     "data": {
      "text/plain": [
       "<Figure size 144x144 with 0 Axes>"
      ]
     },
     "metadata": {},
     "output_type": "display_data"
    },
    {
     "data": {
      "image/png": "[encoded data removed]",
      "text/plain": [
       "<Figure size 720x288 with 1 Axes>"
      ]
     },
     "metadata": {
      "needs_background": "light"
     },
     "output_type": "display_data"
    }
   ],
   "source": [
    "fig = plt.figure(figsize=(2,2))\n",
    "#ax = fig.add_subplot(111)\n",
    "#cax = ax.matshow(torch.squeeze(clone_phenos).cpu())\n",
    "#plt.matshow(torch.squeeze(clone_phenos).cpu())\n",
    "plt.matshow(torch.squeeze(clone_phenos).cpu()[torch.squeeze(clone_phenos).cpu()[:, 0].sort()[1]])\n",
    "#fig.colorbar(cax)"
   ]
  },
  {
   "cell_type": "code",
   "execution_count": 37,
   "metadata": {},
   "outputs": [],
   "source": [
    "#np.save(\"gen2_clones_phenos\",np.array(clone_phenos))"
   ]
  },
  {
   "cell_type": "code",
   "execution_count": 38,
   "metadata": {},
   "outputs": [],
   "source": [
    "#np.save(\"gen2_parent_phenos\",np.array(best_pheno[0][0].cpu()))"
   ]
  },
  {
   "cell_type": "code",
   "execution_count": 39,
   "metadata": {},
   "outputs": [],
   "source": [
    "#helper functions\n",
    "def fitness_function(pop, targ):\n",
    "    return (1 - torch.abs(pop.squeeze(1) - targ)).sum(axis=1) /pop.size()[-1] # the smaller the difference, the higher the fitness\n",
    "def get_phenotypes(pop, num_indv):\n",
    "    state = torch.zeros(num_indv, 1, grn_size).to(device)\n",
    "    state[:, :, 0] = 1.0 # create input to the GRNs\n",
    "\n",
    "    state_before = torch.zeros(num_indv, 1, grn_size).to(device) # keeping track of the last state\n",
    "    for l in range(max_iter):\n",
    "        state = torch.matmul(state, pop) # each matrix in the population is multiplied\n",
    "        state = state * alpha\n",
    "        state = torch.sigmoid(state) # after which it is put in a sigmoid function to get the output, by default alpha = 1 which is pretty flat, so let's use alpha > 1 (wagner uses infinite) hence the above multiplication\n",
    "        # state = dround(state, 2)\n",
    "        diffs=torch.abs(state_before - state).sum(axis=(1,2))\n",
    "        which_repeat = torch.where(diffs == 0)\n",
    "        state_before = state\n",
    "\n",
    "    return state\n",
    "\n",
    "ones=torch.ones(1,int(50/2)).to(device)\n",
    "zeros=torch.zeros(1,int(50/2)).to(device)\n",
    "targA=torch.cat((ones,zeros),1)\n",
    "targB=torch.cat((zeros,ones),1)\n",
    "targs = [targA,targB]\n",
    "\n",
    "grn_size=50\n",
    "alpha=10\n",
    "mut_rate=0.1\n",
    "mut_size=0.5\n",
    "max_iter=100\n",
    "    \n",
    "\n",
    "#the real deal\n",
    "def switcher_coeff(grn):\n",
    "    num_clones=60\n",
    "    num_genes_fit = 50\n",
    "    \n",
    "    grn=torch.Tensor(grn)\n",
    "    \n",
    "    c_phenotypes = []\n",
    "    \n",
    "    for c in range(num_clones):\n",
    "        \n",
    "        clones = grn.clone().to(device)#.repeat([num_clones, 1, 1]) # create copies of parents\n",
    "\n",
    "        # Mutate clones\n",
    "        num_genes_mutate = int(grn_size*grn_size*len(clones) * mut_rate)\n",
    "        mylist = torch.zeros(grn_size*grn_size*len(clones), device=device)\n",
    "        mylist[:num_genes_mutate] = 1\n",
    "        shuffled_idx = torch.randperm(grn_size*grn_size*len(clones), device=device)\n",
    "        mask = mylist[shuffled_idx].reshape(len(clones),grn_size,grn_size) #select genes to mutate\n",
    "        clones = clones + (clones*mask)*torch.randn(size=clones.shape, device=device) * mut_size  # mutate only children only at certain genes\n",
    "\n",
    "        # Get clone phenotypes\n",
    "        clone_states=get_phenotypes(clones, 1)\n",
    "        clone_phenos = clone_states[:,:,:num_genes_fit]\n",
    "        \n",
    "        c_phenotypes.append(clone_phenos)\n",
    "    \n",
    "    c_phenotypes = torch.stack(c_phenotypes)\n",
    "    print(c_phenotypes)\n",
    "\n",
    "    # Calculate fitness from phenotypes of clones\n",
    "    c_phenotypes=torch.squeeze(c_phenotypes)\n",
    "    tops=c_phenotypes[: , :  , :int(num_genes_fit/2)].sum(axis=-1, keepdims=True)\n",
    "    bots=c_phenotypes[: , :  , int(num_genes_fit/2):].sum(axis=-1, keepdims=True)\n",
    "\n",
    "    across_envs=abs(tops-bots).sum(axis=0) # sum of differences across clones between top and bottom half (i.e. envs). we want this to be high! we want the tops and bots to be different\n",
    "    across_clones=abs(tops.sum(axis=0) - bots.sum(axis=0)) # for each individual, difference between tops and bots across the clones. you want this to be low\n",
    "    across_envs=across_envs/(int(num_genes_fit/2)*num_clones) # number of genes/2 times number of clones\n",
    "    across_clones=1-(across_clones/(int(num_genes_fit/2)*num_clones)) # number of genes/2 times number of clones, also the lower the better so let's flip\n",
    "\n",
    "    newfitnesses=across_envs + across_clones - 1\n",
    "    fitnesses=torch.squeeze(newfitnesses)\n",
    "    \n",
    "    return fitnesses\n",
    "    \n",
    "def generalist_coeff(grn):\n",
    "    grn=torch.Tensor(grn)\n",
    "    \n",
    "    pheno=get_phenotypes(grn, 1)\n",
    "    fitness = (1-(abs(pheno-0.5).mean())-0.5)*2\n",
    "    \n",
    "    return fitness.item()\n",
    "\n",
    "def mutate_grn(grn):\n",
    "    grn=torch.Tensor(grn)\n",
    "    \n",
    "    num_genes_mutate = int(grn_size*grn_size*1 * mut_rate)\n",
    "    mylist = torch.zeros(grn_size*grn_size*1, device=device)\n",
    "    mylist[:num_genes_mutate] = 1\n",
    "    shuffled_idx = torch.randperm(grn_size*grn_size*1, device=device)\n",
    "    mask = mylist[shuffled_idx].reshape(1,grn_size,grn_size) #select genes to mutate\n",
    "    grn = grn + (grn*mask)*torch.randn(size=grn.shape, device=device) * mut_size  # mutate only children only at certain genes\n",
    "    \n",
    "    grn=torch.flatten(grn, start_dim=0, end_dim=1)\n",
    "    \n",
    "    return grn.detach().cpu().numpy()\n",
    "    "
   ]
  },
  {
   "cell_type": "code",
   "execution_count": 68,
   "metadata": {},
   "outputs": [],
   "source": [
    "tester=data[\"best_grns\"][check_at].detach().cpu().numpy()"
   ]
  },
  {
   "cell_type": "code",
   "execution_count": 164,
   "metadata": {},
   "outputs": [
    {
     "name": "stdout",
     "output_type": "stream",
     "text": [
      "tensor([[[[5.5820e-11, 1.4847e-06, 4.2101e-16,  ..., 1.0000e+00,\n",
      "           1.0000e+00, 9.6809e-01]],\n",
      "\n",
      "         [[5.8337e-10, 1.4827e-06, 5.7322e-16,  ..., 1.0000e+00,\n",
      "           1.0000e+00, 9.6456e-01]],\n",
      "\n",
      "         [[1.3953e-02, 1.0000e+00, 1.0000e+00,  ..., 1.3394e-36,\n",
      "           2.4679e-01, 7.0713e-11]],\n",
      "\n",
      "         ...,\n",
      "\n",
      "         [[4.5470e-03, 1.0000e+00, 1.0000e+00,  ..., 0.0000e+00,\n",
      "           2.5174e-27, 8.4979e-17]],\n",
      "\n",
      "         [[5.5948e-11, 1.4829e-06, 4.1503e-16,  ..., 1.0000e+00,\n",
      "           1.0000e+00, 9.6465e-01]],\n",
      "\n",
      "         [[1.7310e-15, 1.0000e+00, 9.9999e-01,  ..., 1.0000e+00,\n",
      "           1.0000e+00, 2.8754e-15]]],\n",
      "\n",
      "\n",
      "        [[[8.3390e-14, 7.2390e-06, 4.2180e-16,  ..., 1.0000e+00,\n",
      "           1.0000e+00, 9.6426e-01]],\n",
      "\n",
      "         [[8.9123e-01, 1.0000e+00, 9.9998e-01,  ..., 1.2556e-33,\n",
      "           1.0000e+00, 5.7987e-08]],\n",
      "\n",
      "         [[4.9668e-03, 1.0000e+00, 1.0000e+00,  ..., 0.0000e+00,\n",
      "           2.2191e-27, 1.7564e-17]],\n",
      "\n",
      "         ...,\n",
      "\n",
      "         [[5.0738e-03, 1.4782e-06, 4.1873e-16,  ..., 1.0000e+00,\n",
      "           1.0000e+00, 9.6447e-01]],\n",
      "\n",
      "         [[1.2694e-03, 1.4872e-06, 2.5489e-02,  ..., 1.0000e+00,\n",
      "           1.0000e+00, 7.6175e-05]],\n",
      "\n",
      "         [[5.8008e-14, 1.4845e-06, 4.1387e-16,  ..., 1.0000e+00,\n",
      "           1.0000e+00, 9.6437e-01]]],\n",
      "\n",
      "\n",
      "        [[[3.5655e-03, 1.0000e+00, 1.0000e+00,  ..., 0.0000e+00,\n",
      "           1.5202e-27, 8.5139e-17]],\n",
      "\n",
      "         [[1.4521e-08, 7.9639e-07, 4.4036e-16,  ..., 1.0000e+00,\n",
      "           1.0000e+00, 9.6623e-01]],\n",
      "\n",
      "         [[5.5835e-11, 1.4800e-06, 4.1587e-16,  ..., 1.0000e+00,\n",
      "           1.0000e+00, 9.9789e-01]],\n",
      "\n",
      "         ...,\n",
      "\n",
      "         [[1.8971e-02, 1.0000e+00, 1.0000e+00,  ..., 0.0000e+00,\n",
      "           4.6607e-01, 1.0026e-18]],\n",
      "\n",
      "         [[1.2887e-02, 1.0000e+00, 1.0000e+00,  ..., 0.0000e+00,\n",
      "           2.3088e-27, 8.5829e-17]],\n",
      "\n",
      "         [[4.2883e-04, 2.2425e-06, 9.9998e-01,  ..., 1.0000e+00,\n",
      "           1.0000e+00, 8.5561e-01]]],\n",
      "\n",
      "\n",
      "        ...,\n",
      "\n",
      "\n",
      "        [[[6.3558e-11, 1.4826e-06, 4.1620e-16,  ..., 1.0000e+00,\n",
      "           1.0000e+00, 9.6693e-01]],\n",
      "\n",
      "         [[8.5470e-10, 4.5372e-08, 1.2035e-16,  ..., 1.0000e+00,\n",
      "           1.0000e+00, 9.7886e-01]],\n",
      "\n",
      "         [[5.5821e-11, 1.2602e-06, 4.1586e-16,  ..., 1.0000e+00,\n",
      "           1.0000e+00, 9.7909e-01]],\n",
      "\n",
      "         ...,\n",
      "\n",
      "         [[3.4596e-13, 1.0000e+00, 1.0000e+00,  ..., 0.0000e+00,\n",
      "           1.5541e-27, 8.7422e-17]],\n",
      "\n",
      "         [[2.3704e-06, 1.0000e+00, 1.0000e+00,  ..., 0.0000e+00,\n",
      "           1.2899e-12, 9.5268e-13]],\n",
      "\n",
      "         [[5.5760e-11, 1.4844e-06, 4.1586e-16,  ..., 1.0000e+00,\n",
      "           1.0000e+00, 9.6579e-01]]],\n",
      "\n",
      "\n",
      "        [[[5.4120e-03, 1.0000e+00, 1.0000e+00,  ..., 0.0000e+00,\n",
      "           4.4830e-27, 8.5913e-17]],\n",
      "\n",
      "         [[3.4097e-12, 1.4828e-06, 4.1341e-16,  ..., 1.0000e+00,\n",
      "           1.0000e+00, 9.6457e-01]],\n",
      "\n",
      "         [[5.7177e-03, 1.0000e+00, 1.0000e+00,  ..., 0.0000e+00,\n",
      "           2.6706e-27, 8.4057e-17]],\n",
      "\n",
      "         ...,\n",
      "\n",
      "         [[3.7759e-03, 1.0000e+00, 1.0000e+00,  ..., 0.0000e+00,\n",
      "           2.4539e-27, 8.4428e-17]],\n",
      "\n",
      "         [[4.9231e-25, 1.4797e-06, 4.1636e-16,  ..., 1.0000e+00,\n",
      "           1.0000e+00, 9.6444e-01]],\n",
      "\n",
      "         [[2.2877e-03, 1.0000e+00, 1.0000e+00,  ..., 0.0000e+00,\n",
      "           2.4435e-27, 9.2201e-27]]],\n",
      "\n",
      "\n",
      "        [[[5.5716e-11, 1.4853e-06, 9.2765e-16,  ..., 1.0000e+00,\n",
      "           1.0000e+00, 9.5440e-01]],\n",
      "\n",
      "         [[6.9069e-11, 1.4524e-06, 9.3404e-16,  ..., 1.0000e+00,\n",
      "           1.0000e+00, 9.6376e-01]],\n",
      "\n",
      "         [[5.6644e-11, 2.1969e-07, 4.1838e-16,  ..., 1.0000e+00,\n",
      "           1.0000e+00, 9.6457e-01]],\n",
      "\n",
      "         ...,\n",
      "\n",
      "         [[2.7880e-11, 1.4859e-06, 4.1198e-16,  ..., 1.0000e+00,\n",
      "           1.0000e+00, 9.5597e-01]],\n",
      "\n",
      "         [[5.5821e-11, 1.4917e-06, 4.1553e-16,  ..., 1.0000e+00,\n",
      "           1.0000e+00, 9.6347e-01]],\n",
      "\n",
      "         [[1.8559e-11, 2.2100e-07, 4.1599e-16,  ..., 1.0000e+00,\n",
      "           1.0000e+00, 9.6560e-01]]]])\n"
     ]
    },
    {
     "data": {
      "text/plain": [
       "tensor([0.7744, 0.5871, 0.7429, 0.6499, 0.4969, 0.6660, 0.6922, 0.5848, 0.7167,\n",
       "        0.7190, 0.6590, 0.5756, 0.6767, 0.5855, 0.5936, 0.6052, 0.6774, 0.5703,\n",
       "        0.5633, 0.7684, 0.6574, 0.6064, 0.6864, 0.7067, 0.5831, 0.7208, 0.7773,\n",
       "        0.5613, 0.6264, 0.6585, 0.4415, 0.6371, 0.5496, 0.4834, 0.6518, 0.6365,\n",
       "        0.6848, 0.5233, 0.6650, 0.6864, 0.5282, 0.5407, 0.4131, 0.7232, 0.6065,\n",
       "        0.5425, 0.5412, 0.5977, 0.5553, 0.5420])"
      ]
     },
     "execution_count": 164,
     "metadata": {},
     "output_type": "execute_result"
    }
   ],
   "source": [
    "switcher_coeff(tester)"
   ]
  },
  {
   "cell_type": "code",
   "execution_count": 121,
   "metadata": {},
   "outputs": [
    {
     "data": {
      "text/plain": [
       "0.5426104068756104"
      ]
     },
     "execution_count": 121,
     "metadata": {},
     "output_type": "execute_result"
    }
   ],
   "source": [
    "generalist_coeff(tester)"
   ]
  },
  {
   "cell_type": "code",
   "execution_count": 97,
   "metadata": {},
   "outputs": [],
   "source": [
    "t=mutate_grn(tester)"
   ]
  },
  {
   "cell_type": "code",
   "execution_count": 98,
   "metadata": {},
   "outputs": [
    {
     "data": {
      "text/plain": [
       "<matplotlib.image.AxesImage at 0x7ff880ba1b20>"
      ]
     },
     "execution_count": 98,
     "metadata": {},
     "output_type": "execute_result"
    },
    {
     "data": {
      "image/png": "[encoded data removed]",
      "text/plain": [
       "<Figure size 480x480 with 1 Axes>"
      ]
     },
     "metadata": {},
     "output_type": "display_data"
    }
   ],
   "source": [
    "plt.matshow(t)"
   ]
  },
  {
   "cell_type": "code",
   "execution_count": 69,
   "metadata": {},
   "outputs": [
    {
     "data": {
      "text/plain": [
       "<matplotlib.image.AxesImage at 0x2b85b5567820>"
      ]
     },
     "execution_count": 69,
     "metadata": {},
     "output_type": "execute_result"
    },
    {
     "data": {
      "image/png": "[encoded data removed]",
      "text/plain": [
       "<Figure size 288x288 with 1 Axes>"
      ]
     },
     "metadata": {
      "needs_background": "light"
     },
     "output_type": "display_data"
    }
   ],
   "source": [
    "plt.matshow(tester)\n",
    "#fig = plt.figure()\n",
    "#ax = fig.add_subplot(111)\n",
    "#cax = ax.matshow(tester)\n",
    "#fig.colorbar(cax)"
   ]
  },
  {
   "cell_type": "code",
   "execution_count": null,
   "metadata": {},
   "outputs": [],
   "source": []
  },
  {
   "cell_type": "code",
   "execution_count": null,
   "metadata": {},
   "outputs": [],
   "source": []
  },
  {
   "cell_type": "code",
   "execution_count": 14,
   "metadata": {},
   "outputs": [],
   "source": [
    "ev_switcher=data[\"best_grns\"][check_at].detach().cpu().numpy()"
   ]
  },
  {
   "cell_type": "code",
   "execution_count": 15,
   "metadata": {},
   "outputs": [],
   "source": [
    "import numpy as np"
   ]
  },
  {
   "cell_type": "code",
   "execution_count": 16,
   "metadata": {},
   "outputs": [],
   "source": [
    "np.save(\"ev_switcher.npy\",ev_switcher)"
   ]
  },
  {
   "cell_type": "code",
   "execution_count": 40,
   "metadata": {
    "colab": {
     "base_uri": "https://localhost:8080/",
     "height": 493
    },
    "id": "VAl2qOLEoWtM",
    "outputId": "eab6951b-3f93-4221-a612-6b6d8bbb4845"
   },
   "outputs": [
    {
     "data": {
      "text/plain": [
       "<matplotlib.colorbar.Colorbar at 0x2b85b6e064f0>"
      ]
     },
     "execution_count": 40,
     "metadata": {},
     "output_type": "execute_result"
    },
    {
     "data": {
      "image/png": "[encoded data removed]",
      "text/plain": [
       "<Figure size 576x576 with 2 Axes>"
      ]
     },
     "metadata": {
      "needs_background": "light"
     },
     "output_type": "display_data"
    }
   ],
   "source": [
    "fig = plt.figure(figsize=(8, 8))\n",
    "ax = fig.add_subplot(111)\n",
    "cax = ax.matshow(get_internal_states(data[\"best_grns\"][check_at]).cpu()[:50,:])\n",
    "fig.colorbar(cax)"
   ]
  },
  {
   "cell_type": "code",
   "execution_count": 41,
   "metadata": {
    "colab": {
     "base_uri": "https://localhost:8080/",
     "height": 873
    },
    "id": "Z727LyEclDMX",
    "outputId": "912dc7a7-93e8-42cb-93ff-4bf1c0a49406"
   },
   "outputs": [
    {
     "data": {
      "image/png": "[encoded data removed]",
      "text/plain": [
       "<Figure size 720x864 with 20 Axes>"
      ]
     },
     "metadata": {
      "needs_background": "light"
     },
     "output_type": "display_data"
    }
   ],
   "source": [
    "fig,axs = plt.subplots(nrows=5,ncols=4, figsize=(10,12))\n",
    "for i,ax in enumerate(axs.flatten()):\n",
    "  #start = get_internal_states(clones[i]).cpu()[:50,:]\n",
    "  #end = get_internal_states(clones[i]).cpu()[-50:,:]\n",
    "  #ax.imshow(torch.vstack((start, end)), interpolation=\"nearest\")\n",
    "  ax.imshow(get_internal_states(clones[i]).cpu(), interpolation=\"nearest\")\n",
    "  ax.axis(\"off\")\n",
    "plt.tight_layout()\n",
    "plt.subplots_adjust(hspace=0.05,wspace=0.05)\n",
    "plt.show()"
   ]
  },
  {
   "cell_type": "code",
   "execution_count": null,
   "metadata": {},
   "outputs": [],
   "source": []
  }
 ],
 "metadata": {
  "accelerator": "GPU",
  "colab": {
   "provenance": []
  },
  "gpuClass": "standard",
  "kernelspec": {
   "display_name": "grnenv",
   "language": "python",
   "name": "grnenv"
  },
  "language_info": {
   "codemirror_mode": {
    "name": "ipython",
    "version": 3
   },
   "file_extension": ".py",
   "mimetype": "text/x-python",
   "name": "python",
   "nbconvert_exporter": "python",
   "pygments_lexer": "ipython3",
   "version": "3.9.16"
  },
  "widgets": {
   "application/vnd.jupyter.widget-state+json": {
    "0c12e65755444c95a8a3e3ef3feb08d5": {
     "model_module": "@jupyter-widgets/base",
     "model_module_version": "1.2.0",
     "model_name": "LayoutModel",
     "state": {
      "_model_module": "@jupyter-widgets/base",
      "_model_module_version": "1.2.0",
      "_model_name": "LayoutModel",
      "_view_count": null,
      "_view_module": "@jupyter-widgets/base",
      "_view_module_version": "1.2.0",
      "_view_name": "LayoutView",
      "align_content": null,
      "align_items": null,
      "align_self": null,
      "border": null,
      "bottom": null,
      "display": null,
      "flex": null,
      "flex_flow": null,
      "grid_area": null,
      "grid_auto_columns": null,
      "grid_auto_flow": null,
      "grid_auto_rows": null,
      "grid_column": null,
      "grid_gap": null,
      "grid_row": null,
      "grid_template_areas": null,
      "grid_template_columns": null,
      "grid_template_rows": null,
      "height": null,
      "justify_content": null,
      "justify_items": null,
      "left": null,
      "margin": null,
      "max_height": null,
      "max_width": null,
      "min_height": null,
      "min_width": null,
      "object_fit": null,
      "object_position": null,
      "order": null,
      "overflow": null,
      "overflow_x": null,
      "overflow_y": null,
      "padding": null,
      "right": null,
      "top": null,
      "visibility": null,
      "width": null
     }
    },
    "0e31083bd8174528987dd291de4e8837": {
     "model_module": "@jupyter-widgets/base",
     "model_module_version": "1.2.0",
     "model_name": "LayoutModel",
     "state": {
      "_model_module": "@jupyter-widgets/base",
      "_model_module_version": "1.2.0",
      "_model_name": "LayoutModel",
      "_view_count": null,
      "_view_module": "@jupyter-widgets/base",
      "_view_module_version": "1.2.0",
      "_view_name": "LayoutView",
      "align_content": null,
      "align_items": null,
      "align_self": null,
      "border": null,
      "bottom": null,
      "display": null,
      "flex": null,
      "flex_flow": null,
      "grid_area": null,
      "grid_auto_columns": null,
      "grid_auto_flow": null,
      "grid_auto_rows": null,
      "grid_column": null,
      "grid_gap": null,
      "grid_row": null,
      "grid_template_areas": null,
      "grid_template_columns": null,
      "grid_template_rows": null,
      "height": null,
      "justify_content": null,
      "justify_items": null,
      "left": null,
      "margin": null,
      "max_height": null,
      "max_width": null,
      "min_height": null,
      "min_width": null,
      "object_fit": null,
      "object_position": null,
      "order": null,
      "overflow": null,
      "overflow_x": null,
      "overflow_y": null,
      "padding": null,
      "right": null,
      "top": null,
      "visibility": null,
      "width": null
     }
    },
    "35635398855e401aab000d376e30e145": {
     "model_module": "@jupyter-widgets/base",
     "model_module_version": "1.2.0",
     "model_name": "LayoutModel",
     "state": {
      "_model_module": "@jupyter-widgets/base",
      "_model_module_version": "1.2.0",
      "_model_name": "LayoutModel",
      "_view_count": null,
      "_view_module": "@jupyter-widgets/base",
      "_view_module_version": "1.2.0",
      "_view_name": "LayoutView",
      "align_content": null,
      "align_items": null,
      "align_self": null,
      "border": null,
      "bottom": null,
      "display": null,
      "flex": null,
      "flex_flow": null,
      "grid_area": null,
      "grid_auto_columns": null,
      "grid_auto_flow": null,
      "grid_auto_rows": null,
      "grid_column": null,
      "grid_gap": null,
      "grid_row": null,
      "grid_template_areas": null,
      "grid_template_columns": null,
      "grid_template_rows": null,
      "height": null,
      "justify_content": null,
      "justify_items": null,
      "left": null,
      "margin": null,
      "max_height": null,
      "max_width": null,
      "min_height": null,
      "min_width": null,
      "object_fit": null,
      "object_position": null,
      "order": null,
      "overflow": null,
      "overflow_x": null,
      "overflow_y": null,
      "padding": null,
      "right": null,
      "top": null,
      "visibility": null,
      "width": null
     }
    },
    "5dd13db7dcc34fa5a925d40ffb9804b6": {
     "model_module": "@jupyter-widgets/controls",
     "model_module_version": "1.5.0",
     "model_name": "LabelModel",
     "state": {
      "_dom_classes": [],
      "_model_module": "@jupyter-widgets/controls",
      "_model_module_version": "1.5.0",
      "_model_name": "LabelModel",
      "_view_count": null,
      "_view_module": "@jupyter-widgets/controls",
      "_view_module_version": "1.5.0",
      "_view_name": "LabelView",
      "description": "",
      "description_tooltip": null,
      "layout": "IPY_MODEL_0c12e65755444c95a8a3e3ef3feb08d5",
      "placeholder": "​",
      "style": "IPY_MODEL_dbee1aeb9f5e44d8a02887e7e6719250",
      "value": "0.001 MB of 0.001 MB uploaded (0.000 MB deduped)\r"
     }
    },
    "8ae9b8bdeefd47479e78a423d0f87977": {
     "model_module": "@jupyter-widgets/controls",
     "model_module_version": "1.5.0",
     "model_name": "ProgressStyleModel",
     "state": {
      "_model_module": "@jupyter-widgets/controls",
      "_model_module_version": "1.5.0",
      "_model_name": "ProgressStyleModel",
      "_view_count": null,
      "_view_module": "@jupyter-widgets/base",
      "_view_module_version": "1.2.0",
      "_view_name": "StyleView",
      "bar_color": null,
      "description_width": ""
     }
    },
    "9c692a8a0eca425e9272a6d1b9660775": {
     "model_module": "@jupyter-widgets/controls",
     "model_module_version": "1.5.0",
     "model_name": "VBoxModel",
     "state": {
      "_dom_classes": [],
      "_model_module": "@jupyter-widgets/controls",
      "_model_module_version": "1.5.0",
      "_model_name": "VBoxModel",
      "_view_count": null,
      "_view_module": "@jupyter-widgets/controls",
      "_view_module_version": "1.5.0",
      "_view_name": "VBoxView",
      "box_style": "",
      "children": [
       "IPY_MODEL_5dd13db7dcc34fa5a925d40ffb9804b6",
       "IPY_MODEL_c1037cf6c3cd42ea86b569505f4fba05"
      ],
      "layout": "IPY_MODEL_0e31083bd8174528987dd291de4e8837"
     }
    },
    "c1037cf6c3cd42ea86b569505f4fba05": {
     "model_module": "@jupyter-widgets/controls",
     "model_module_version": "1.5.0",
     "model_name": "FloatProgressModel",
     "state": {
      "_dom_classes": [],
      "_model_module": "@jupyter-widgets/controls",
      "_model_module_version": "1.5.0",
      "_model_name": "FloatProgressModel",
      "_view_count": null,
      "_view_module": "@jupyter-widgets/controls",
      "_view_module_version": "1.5.0",
      "_view_name": "ProgressView",
      "bar_style": "",
      "description": "",
      "description_tooltip": null,
      "layout": "IPY_MODEL_35635398855e401aab000d376e30e145",
      "max": 1,
      "min": 0,
      "orientation": "horizontal",
      "style": "IPY_MODEL_8ae9b8bdeefd47479e78a423d0f87977",
      "value": 1
     }
    },
    "dbee1aeb9f5e44d8a02887e7e6719250": {
     "model_module": "@jupyter-widgets/controls",
     "model_module_version": "1.5.0",
     "model_name": "DescriptionStyleModel",
     "state": {
      "_model_module": "@jupyter-widgets/controls",
      "_model_module_version": "1.5.0",
      "_model_name": "DescriptionStyleModel",
      "_view_count": null,
      "_view_module": "@jupyter-widgets/base",
      "_view_module_version": "1.2.0",
      "_view_name": "StyleView",
      "description_width": ""
     }
    }
   }
  }
 },
 "nbformat": 4,
 "nbformat_minor": 1
}
